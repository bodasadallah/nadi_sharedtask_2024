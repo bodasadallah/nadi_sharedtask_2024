{
 "cells": [
  {
   "cell_type": "code",
   "execution_count": null,
   "id": "9485df2d",
   "metadata": {},
   "outputs": [],
   "source": []
  },
  {
   "cell_type": "code",
   "execution_count": 1,
   "id": "545f3a63",
   "metadata": {},
   "outputs": [
    {
     "name": "stderr",
     "output_type": "stream",
     "text": [
      "2024-05-03 19:38:55.729535: E external/local_xla/xla/stream_executor/cuda/cuda_dnn.cc:9261] Unable to register cuDNN factory: Attempting to register factory for plugin cuDNN when one has already been registered\n",
      "2024-05-03 19:38:55.729683: E external/local_xla/xla/stream_executor/cuda/cuda_fft.cc:607] Unable to register cuFFT factory: Attempting to register factory for plugin cuFFT when one has already been registered\n",
      "2024-05-03 19:38:55.730853: E external/local_xla/xla/stream_executor/cuda/cuda_blas.cc:1515] Unable to register cuBLAS factory: Attempting to register factory for plugin cuBLAS when one has already been registered\n",
      "2024-05-03 19:38:55.740824: I tensorflow/core/platform/cpu_feature_guard.cc:182] This TensorFlow binary is optimized to use available CPU instructions in performance-critical operations.\n",
      "To enable the following instructions: AVX2 FMA, in other operations, rebuild TensorFlow with the appropriate compiler flags.\n",
      "2024-05-03 19:38:56.947807: W tensorflow/compiler/tf2tensorrt/utils/py_utils.cc:38] TF-TRT Warning: Could not find TensorRT\n",
      "[nltk_data] Downloading package punkt to\n",
      "[nltk_data]     /home/abdelrahman.sadallah/nltk_data...\n",
      "[nltk_data]   Package punkt is already up-to-date!\n"
     ]
    }
   ],
   "source": [
    "import torch\n",
    "\n",
    "from transformers import HfArgumentParser, Seq2SeqTrainingArguments,EarlyStoppingCallback\n",
    "\n",
    "import logging\n",
    "\n",
    "from dataclasses import dataclass, field\n",
    "from typing import Callable, Dict, Optional\n",
    "from datasets import load_dataset, concatenate_datasets,Value\n",
    "import numpy as np\n",
    "from typing import Union, Optional\n",
    "from transformers import AutoModelForSeq2SeqLM, DataCollatorForSeq2Seq, Seq2SeqTrainingArguments, Seq2SeqTrainer\n",
    "from transformers.tokenization_utils_base import PreTrainedTokenizerBase, PaddingStrategy\n",
    "from transformers import AutoConfig, AutoModelForSequenceClassification, AutoTokenizer, EvalPrediction, GlueDataset, AutoModel\n",
    "from transformers import GlueDataTrainingArguments as DataTrainingArguments\n",
    "from transformers import (\n",
    "    HfArgumentParser,\n",
    "    Trainer,\n",
    "    TrainingArguments,\n",
    "    #glue_compute_metrics,\n",
    "    glue_output_modes,\n",
    "    glue_tasks_num_labels,\n",
    "    set_seed,\n",
    ")\n",
    "from arguments import ModelArguments, DataArguments\n",
    "import wandb\n",
    "from nltk.tokenize import sent_tokenize\n",
    "import nltk\n",
    "\n",
    "nltk.download(\"punkt\")\n",
    "logger = logging.getLogger(__name__)\n",
    "from transformers import (RobertaForMultipleChoice, RobertaTokenizer, Trainer,\n",
    "                          TrainingArguments, XLMRobertaForMultipleChoice,\n",
    "                          XLMRobertaTokenizer)\n",
    "\n",
    "import pathlib\n",
    "from datasets import load_dataset\n",
    "import torch\n",
    "from transformers import AutoModelForCausalLM, AutoTokenizer, BitsAndBytesConfig, AutoTokenizer\n",
    "from transformers import TrainingArguments\n",
    "from trl import SFTTrainer\n",
    "from peft import LoraConfig, prepare_model_for_kbit_training\n",
    "\n",
    "\n",
    "from utils import *\n",
    "import numpy as np\n",
    "from peft import PeftModel    \n",
    "import logging\n",
    "import os\n",
    "\n",
    "# import evaluate \n",
    "from evaluate import load \n",
    "from torch.utils.data import DataLoader\n",
    "from tqdm import tqdm\n",
    "\n",
    "\n",
    "def split_sequence(sequence, chunk_size):\n",
    "    chunks=[]\n",
    "    for i in range(0, len(sequence), chunk_size):\n",
    "        chunks.append(sequence[i: i + chunk_size])\n",
    "    return chunks\n",
    "\t\t\n",
    "\n",
    "def calc_results(prediction, truth, save_file, chunk_size=100):\n",
    "    \n",
    "\n",
    "    global bleu_score\n",
    "    \n",
    "    if (len(truth) != len(prediction)):\n",
    "        print (\"both files must have same number of instances\")\n",
    "        exit()\n",
    "\n",
    "\n",
    "    truth_chunks= split_sequence(truth, chunk_size)\n",
    "\n",
    "    truth_Egyptain=truth_chunks[0]\n",
    "    truth_Emirati=truth_chunks[1]\n",
    "    truth_Jordanian=truth_chunks[2]\n",
    "    truth_Palestinian=truth_chunks[3]\n",
    "\n",
    "    prediction_chunks= split_sequence(prediction, chunk_size)\n",
    "\n",
    "    prediction_Egyptain=prediction_chunks[0]\n",
    "    prediction_Emirati=prediction_chunks[1]\n",
    "    prediction_Jordanian=prediction_chunks[2]\n",
    "    prediction_Palestinian=prediction_chunks[3]\n",
    "\n",
    "    ### get scores\n",
    "    results_Egyptain = bleu_score.compute(predictions=prediction_Egyptain, references=truth_Egyptain)\n",
    "    results_Emirati = bleu_score.compute(predictions=prediction_Emirati, references=truth_Emirati)\n",
    "    results_Jordanian = bleu_score.compute(predictions=prediction_Jordanian, references=truth_Jordanian)\n",
    "    results_Palestinian = bleu_score.compute(predictions=prediction_Palestinian, references=truth_Palestinian)\n",
    "    overall_results = bleu_score.compute(predictions=prediction, references=truth)\n",
    "\n",
    "    #write to a text file\n",
    "    print('Scores:')\n",
    "    scores = {\n",
    "            'Overall': overall_results['bleu']*100,\n",
    "            'Egyptain': results_Egyptain['bleu']*100,\n",
    "            'Emirati': results_Emirati['bleu']*100,\n",
    "            'Jordanian': results_Jordanian['bleu']*100,\n",
    "            'Palestinian': results_Palestinian['bleu']*100, \n",
    "            }\n",
    "    print(scores)\n",
    "\n",
    "    with open(save_file, 'w') as score_file:\n",
    "        score_file.write(\"Overall: %0.12f\\n\" % scores[\"Overall\"])\n",
    "        score_file.write(\"Egyptain: %0.12f\\n\" % scores[\"Egyptain\"])\n",
    "        score_file.write(\"Emirati: %0.12f\\n\" % scores[\"Emirati\"])\n",
    "        score_file.write(\"Jordanian: %0.12f\\n\" % scores[\"Jordanian\"])\n",
    "        score_file.write(\"Palestinian: %0.12f\\n\" % scores[\"Palestinian\"])\n",
    "\n",
    "\n",
    "\n",
    "\n",
    "\n"
   ]
  },
  {
   "cell_type": "code",
   "execution_count": 2,
   "id": "212741f9-d70f-41d8-a2ce-e80456a7491d",
   "metadata": {},
   "outputs": [],
   "source": [
    "\n",
    "# model_name_or_path='core42/jais-13b'\n",
    "model_name_or_path='core42/jais-13b-chat'\n",
    "\n",
    "\n",
    "dataset = 'boda/nadi2024'\n",
    "prompt_key=\"prompt\"\n",
    "chunk_size =100 \n",
    "split=\"dev\"\n",
    "per_device_eval_batch_size=4\n",
    "save_file='outputs/jais_val'\n",
    "# checkpoint_path='/l/users/abdelrahman.sadallah/nadi/core42/jais-13b/best/'\n"
   ]
  },
  {
   "cell_type": "code",
   "execution_count": 3,
   "id": "50218e2c",
   "metadata": {},
   "outputs": [
    {
     "name": "stdout",
     "output_type": "stream",
     "text": [
      "Loading the   dev datasets\n"
     ]
    }
   ],
   "source": [
    "\n",
    "\n",
    "\n",
    "\n",
    "\n",
    "\n",
    "bleu_score = load(\"bleu\")\n",
    "\n",
    "\n",
    "print(f\"Loading the   {split} datasets\")\n",
    "dataset = get_dataset(\n",
    "    dataset_name = dataset,\n",
    "    split=split,\n",
    "    field=prompt_key)\n",
    "\n",
    "\n",
    "save_file = save_file\n",
    "\n",
    "\n",
    "val_dataloader = DataLoader(dataset, batch_size=per_device_eval_batch_size, shuffle=False)  \n",
    "\n",
    "\n",
    "\n",
    "tokenizer = AutoTokenizer.from_pretrained(model_name_or_path,padding_side='left')\n",
    "tokenizer.pad_token = tokenizer.eos_token\n"
   ]
  },
  {
   "cell_type": "code",
   "execution_count": 4,
   "id": "87fa5f74",
   "metadata": {},
   "outputs": [
    {
     "name": "stderr",
     "output_type": "stream",
     "text": [
      "The `load_in_4bit` and `load_in_8bit` arguments are deprecated and will be removed in the future versions. Please, pass a `BitsAndBytesConfig` object in `quantization_config` argument instead.\n"
     ]
    },
    {
     "data": {
      "application/vnd.jupyter.widget-view+json": {
       "model_id": "d81fd2adda22424084dd364ee31a99d8",
       "version_major": 2,
       "version_minor": 0
      },
      "text/plain": [
       "Loading checkpoint shards:   0%|          | 0/6 [00:00<?, ?it/s]"
      ]
     },
     "metadata": {},
     "output_type": "display_data"
    }
   ],
   "source": [
    "\n",
    "model = AutoModelForCausalLM.from_pretrained(\n",
    "    model_name_or_path,\n",
    "    trust_remote_code=True,\n",
    "    return_dict=True,\n",
    "    load_in_4bit=True,\n",
    "    device_map=\"auto\",\n",
    ")\n",
    "\n"
   ]
  },
  {
   "cell_type": "code",
   "execution_count": 5,
   "id": "37e0714a-ad8a-46ac-8dc0-a1b479a73b1e",
   "metadata": {},
   "outputs": [
    {
     "name": "stdout",
     "output_type": "stream",
     "text": [
      "Loading model from /l/users/abdelrahman.sadallah/nadi/core42/jais-13b-chat/checkpoint-9500/\n"
     ]
    }
   ],
   "source": [
    "checkpoint_path= '/l/users/abdelrahman.sadallah/nadi/core42/jais-13b-chat/checkpoint-9500/'\n",
    "\n",
    "\n",
    "bnb_config = BitsAndBytesConfig(\n",
    "    load_in_4bit=True,\n",
    "    bnb_4bit_quant_type=\"nf4\",\n",
    "    bnb_4bit_compute_dtype=torch.float16,\n",
    "    # bnb_4bit_compute_dtype=torch.bfloat16,\n",
    "    bnb_4bit_use_double_quant=False\n",
    ")\n",
    "if checkpoint_path:\n",
    "    print(f'Loading model from {checkpoint_path}')\n",
    "    adapter_checkpoint  = checkpoint_path\n",
    "    model = PeftModel.from_pretrained(model, adapter_checkpoint,quantization_config=bnb_config)\n",
    "\n",
    "else:\n",
    "    print(f'Loading Base Model {model_name_or_path}')\n",
    "\n",
    "\n",
    "model = model.eval()\n",
    "\n",
    "# Define PAD Token = BOS Token\n",
    "model.config.pad_token_id = model.config.bos_token_id\n"
   ]
  },
  {
   "cell_type": "code",
   "execution_count": 6,
   "id": "6d1324a0-3de5-424e-be14-60be2f2af3e2",
   "metadata": {},
   "outputs": [],
   "source": [
    "invalid = 0"
   ]
  },
  {
   "cell_type": "code",
   "execution_count": 7,
   "id": "17f98c4c",
   "metadata": {},
   "outputs": [],
   "source": [
    "def inference(prompts, tokenizer, model):\n",
    "    \n",
    "    device = \"cuda\" if torch.cuda.is_available() else \"cpu\"\n",
    "    outs = []\n",
    "\n",
    "    with torch.no_grad():\n",
    "        for p in prompts:\n",
    "            \n",
    "            encoding = tokenizer(p, return_tensors=\"pt\", padding=True).to(model.device)\n",
    "    \n",
    "            try:\n",
    "                outputs = model.generate(\n",
    "                    **encoding,\n",
    "                    max_new_tokens=256,\n",
    "                    do_sample=False,\n",
    "                    # top_p = 0.9,\n",
    "                    # repetition_penalty=1.4,\n",
    "                    # temperature=0.9,\n",
    "                    pad_token_id=tokenizer.eos_token_id,\n",
    "                )\n",
    "                answer_tokens = outputs[:, encoding.input_ids.shape[1] :]\n",
    "                output_text = tokenizer.batch_decode(answer_tokens, skip_special_tokens=True, clean_up_tokenization_spaces=True)\n",
    "                # print(output_text)\n",
    "            except: \n",
    "                invalid += 1\n",
    "                output_text = ['']\n",
    "        \n",
    "            outs.append(output_text[0])\n",
    "\n",
    "\n",
    "    return outs\n",
    "        "
   ]
  },
  {
   "cell_type": "code",
   "execution_count": 8,
   "id": "78c3069c-ee3b-447f-9af7-245aa4a445f2",
   "metadata": {},
   "outputs": [
    {
     "data": {
      "text/plain": [
       "Dataset({\n",
       "    features: ['source', 'target', 'dialect', 'prompt'],\n",
       "    num_rows: 400\n",
       "})"
      ]
     },
     "execution_count": 8,
     "metadata": {},
     "output_type": "execute_result"
    }
   ],
   "source": [
    "dataset"
   ]
  },
  {
   "cell_type": "code",
   "execution_count": 9,
   "id": "bf1e6b53",
   "metadata": {
    "scrolled": true
   },
   "outputs": [
    {
     "name": "stderr",
     "output_type": "stream",
     "text": [
      "  0%|                                                                                                                                                                 | 0/100 [00:00<?, ?it/s]/home/abdelrahman.sadallah/mambaforge/envs/nlp/lib/python3.10/site-packages/bitsandbytes/nn/modules.py:391: UserWarning: Input type into Linear4bit is torch.float16, but bnb_4bit_compute_dtype=torch.float32 (default). This will lead to slow inference or training speed.\n",
      "  warnings.warn('Input type into Linear4bit is torch.float16, but bnb_4bit_compute_dtype=torch.float32 (default). This will lead to slow inference or training speed.')\n",
      "/home/abdelrahman.sadallah/mambaforge/envs/nlp/lib/python3.10/site-packages/bitsandbytes/autograd/_functions.py:569: UserWarning: Some matrices hidden dimension is not a multiple of 64 and efficient inference kernels are not supported for these (slow). Matrix input size found: torch.Size([1, 1, 13653])\n",
      "  warn(f'Some matrices hidden dimension is not a multiple of {quant_state.blocksize} and efficient inference kernels are not supported for these (slow). Matrix input size found: {A.shape}')\n",
      "  1%|█▌                                                                                                                                                       | 1/100 [00:13<21:47, 13.20s/it]"
     ]
    },
    {
     "name": "stdout",
     "output_type": "stream",
     "text": [
      "4\n",
      "0\n"
     ]
    },
    {
     "name": "stderr",
     "output_type": "stream",
     "text": [
      "  2%|███                                                                                                                                                      | 2/100 [00:24<19:26, 11.90s/it]"
     ]
    },
    {
     "name": "stdout",
     "output_type": "stream",
     "text": [
      "8\n",
      "0\n"
     ]
    },
    {
     "name": "stderr",
     "output_type": "stream",
     "text": [
      "  3%|████▌                                                                                                                                                    | 3/100 [00:35<19:01, 11.77s/it]"
     ]
    },
    {
     "name": "stdout",
     "output_type": "stream",
     "text": [
      "12\n",
      "0\n"
     ]
    },
    {
     "name": "stderr",
     "output_type": "stream",
     "text": [
      "  4%|██████                                                                                                                                                   | 4/100 [00:47<18:38, 11.65s/it]"
     ]
    },
    {
     "name": "stdout",
     "output_type": "stream",
     "text": [
      "16\n",
      "0\n"
     ]
    },
    {
     "name": "stderr",
     "output_type": "stream",
     "text": [
      "  5%|███████▋                                                                                                                                                 | 5/100 [00:56<16:51, 10.64s/it]"
     ]
    },
    {
     "name": "stdout",
     "output_type": "stream",
     "text": [
      "20\n",
      "0\n"
     ]
    },
    {
     "name": "stderr",
     "output_type": "stream",
     "text": [
      "  6%|█████████▏                                                                                                                                               | 6/100 [01:05<16:11, 10.33s/it]"
     ]
    },
    {
     "name": "stdout",
     "output_type": "stream",
     "text": [
      "24\n",
      "0\n"
     ]
    },
    {
     "name": "stderr",
     "output_type": "stream",
     "text": [
      "  7%|██████████▋                                                                                                                                              | 7/100 [01:15<15:33, 10.04s/it]"
     ]
    },
    {
     "name": "stdout",
     "output_type": "stream",
     "text": [
      "28\n",
      "0\n"
     ]
    },
    {
     "name": "stderr",
     "output_type": "stream",
     "text": [
      "  8%|████████████▏                                                                                                                                            | 8/100 [01:24<14:50,  9.68s/it]"
     ]
    },
    {
     "name": "stdout",
     "output_type": "stream",
     "text": [
      "32\n",
      "0\n"
     ]
    },
    {
     "name": "stderr",
     "output_type": "stream",
     "text": [
      "  9%|█████████████▊                                                                                                                                           | 9/100 [01:34<15:08,  9.98s/it]"
     ]
    },
    {
     "name": "stdout",
     "output_type": "stream",
     "text": [
      "36\n",
      "0\n"
     ]
    },
    {
     "name": "stderr",
     "output_type": "stream",
     "text": [
      " 10%|███████████████▏                                                                                                                                        | 10/100 [01:46<15:33, 10.37s/it]"
     ]
    },
    {
     "name": "stdout",
     "output_type": "stream",
     "text": [
      "40\n",
      "0\n"
     ]
    },
    {
     "name": "stderr",
     "output_type": "stream",
     "text": [
      " 11%|████████████████▋                                                                                                                                       | 11/100 [01:57<16:00, 10.79s/it]"
     ]
    },
    {
     "name": "stdout",
     "output_type": "stream",
     "text": [
      "44\n",
      "0\n"
     ]
    },
    {
     "name": "stderr",
     "output_type": "stream",
     "text": [
      " 12%|██████████████████▏                                                                                                                                     | 12/100 [02:05<14:35,  9.94s/it]"
     ]
    },
    {
     "name": "stdout",
     "output_type": "stream",
     "text": [
      "48\n",
      "0\n"
     ]
    },
    {
     "name": "stderr",
     "output_type": "stream",
     "text": [
      " 13%|███████████████████▊                                                                                                                                    | 13/100 [02:15<14:19,  9.88s/it]"
     ]
    },
    {
     "name": "stdout",
     "output_type": "stream",
     "text": [
      "52\n",
      "0\n"
     ]
    },
    {
     "name": "stderr",
     "output_type": "stream",
     "text": [
      " 14%|█████████████████████▎                                                                                                                                  | 14/100 [02:28<15:22, 10.72s/it]"
     ]
    },
    {
     "name": "stdout",
     "output_type": "stream",
     "text": [
      "56\n",
      "0\n"
     ]
    },
    {
     "name": "stderr",
     "output_type": "stream",
     "text": [
      " 15%|██████████████████████▊                                                                                                                                 | 15/100 [02:38<14:51, 10.49s/it]"
     ]
    },
    {
     "name": "stdout",
     "output_type": "stream",
     "text": [
      "60\n",
      "0\n"
     ]
    },
    {
     "name": "stderr",
     "output_type": "stream",
     "text": [
      " 16%|████████████████████████▎                                                                                                                               | 16/100 [02:48<14:33, 10.40s/it]"
     ]
    },
    {
     "name": "stdout",
     "output_type": "stream",
     "text": [
      "64\n",
      "0\n"
     ]
    },
    {
     "name": "stderr",
     "output_type": "stream",
     "text": [
      " 17%|█████████████████████████▊                                                                                                                              | 17/100 [02:58<14:17, 10.33s/it]"
     ]
    },
    {
     "name": "stdout",
     "output_type": "stream",
     "text": [
      "68\n",
      "0\n"
     ]
    },
    {
     "name": "stderr",
     "output_type": "stream",
     "text": [
      " 18%|███████████████████████████▎                                                                                                                            | 18/100 [03:09<14:12, 10.39s/it]"
     ]
    },
    {
     "name": "stdout",
     "output_type": "stream",
     "text": [
      "72\n",
      "0\n"
     ]
    },
    {
     "name": "stderr",
     "output_type": "stream",
     "text": [
      " 19%|████████████████████████████▉                                                                                                                           | 19/100 [03:20<14:24, 10.68s/it]"
     ]
    },
    {
     "name": "stdout",
     "output_type": "stream",
     "text": [
      "76\n",
      "0\n"
     ]
    },
    {
     "name": "stderr",
     "output_type": "stream",
     "text": [
      " 20%|██████████████████████████████▍                                                                                                                         | 20/100 [03:31<14:26, 10.83s/it]"
     ]
    },
    {
     "name": "stdout",
     "output_type": "stream",
     "text": [
      "80\n",
      "0\n"
     ]
    },
    {
     "name": "stderr",
     "output_type": "stream",
     "text": [
      " 21%|███████████████████████████████▉                                                                                                                        | 21/100 [03:44<14:53, 11.31s/it]"
     ]
    },
    {
     "name": "stdout",
     "output_type": "stream",
     "text": [
      "84\n",
      "0\n"
     ]
    },
    {
     "name": "stderr",
     "output_type": "stream",
     "text": [
      " 22%|█████████████████████████████████▍                                                                                                                      | 22/100 [03:55<14:34, 11.22s/it]"
     ]
    },
    {
     "name": "stdout",
     "output_type": "stream",
     "text": [
      "88\n",
      "0\n"
     ]
    },
    {
     "name": "stderr",
     "output_type": "stream",
     "text": [
      " 23%|██████████████████████████████████▉                                                                                                                     | 23/100 [04:04<13:46, 10.74s/it]"
     ]
    },
    {
     "name": "stdout",
     "output_type": "stream",
     "text": [
      "92\n",
      "0\n"
     ]
    },
    {
     "name": "stderr",
     "output_type": "stream",
     "text": [
      " 24%|████████████████████████████████████▍                                                                                                                   | 24/100 [04:16<13:59, 11.05s/it]"
     ]
    },
    {
     "name": "stdout",
     "output_type": "stream",
     "text": [
      "96\n",
      "0\n"
     ]
    },
    {
     "name": "stderr",
     "output_type": "stream",
     "text": [
      " 25%|██████████████████████████████████████                                                                                                                  | 25/100 [04:25<13:09, 10.52s/it]"
     ]
    },
    {
     "name": "stdout",
     "output_type": "stream",
     "text": [
      "100\n",
      "0\n"
     ]
    },
    {
     "name": "stderr",
     "output_type": "stream",
     "text": [
      " 26%|███████████████████████████████████████▌                                                                                                                | 26/100 [04:35<12:37, 10.23s/it]"
     ]
    },
    {
     "name": "stdout",
     "output_type": "stream",
     "text": [
      "104\n",
      "0\n"
     ]
    },
    {
     "name": "stderr",
     "output_type": "stream",
     "text": [
      " 27%|█████████████████████████████████████████                                                                                                               | 27/100 [04:42<11:21,  9.33s/it]"
     ]
    },
    {
     "name": "stdout",
     "output_type": "stream",
     "text": [
      "108\n",
      "0\n"
     ]
    },
    {
     "name": "stderr",
     "output_type": "stream",
     "text": [
      " 28%|██████████████████████████████████████████▌                                                                                                             | 28/100 [04:52<11:18,  9.42s/it]"
     ]
    },
    {
     "name": "stdout",
     "output_type": "stream",
     "text": [
      "112\n",
      "0\n"
     ]
    },
    {
     "name": "stderr",
     "output_type": "stream",
     "text": [
      " 29%|████████████████████████████████████████████                                                                                                            | 29/100 [05:01<11:02,  9.32s/it]"
     ]
    },
    {
     "name": "stdout",
     "output_type": "stream",
     "text": [
      "116\n",
      "0\n"
     ]
    },
    {
     "name": "stderr",
     "output_type": "stream",
     "text": [
      " 30%|█████████████████████████████████████████████▌                                                                                                          | 30/100 [05:11<11:09,  9.56s/it]"
     ]
    },
    {
     "name": "stdout",
     "output_type": "stream",
     "text": [
      "120\n",
      "0\n"
     ]
    },
    {
     "name": "stderr",
     "output_type": "stream",
     "text": [
      " 31%|███████████████████████████████████████████████                                                                                                         | 31/100 [05:23<11:52, 10.32s/it]"
     ]
    },
    {
     "name": "stdout",
     "output_type": "stream",
     "text": [
      "124\n",
      "0\n"
     ]
    },
    {
     "name": "stderr",
     "output_type": "stream",
     "text": [
      " 32%|████████████████████████████████████████████████▋                                                                                                       | 32/100 [05:32<11:17,  9.97s/it]"
     ]
    },
    {
     "name": "stdout",
     "output_type": "stream",
     "text": [
      "128\n",
      "0\n"
     ]
    },
    {
     "name": "stderr",
     "output_type": "stream",
     "text": [
      " 33%|██████████████████████████████████████████████████▏                                                                                                     | 33/100 [05:38<09:48,  8.78s/it]"
     ]
    },
    {
     "name": "stdout",
     "output_type": "stream",
     "text": [
      "132\n",
      "0\n"
     ]
    },
    {
     "name": "stderr",
     "output_type": "stream",
     "text": [
      " 34%|███████████████████████████████████████████████████▋                                                                                                    | 34/100 [05:49<10:20,  9.41s/it]"
     ]
    },
    {
     "name": "stdout",
     "output_type": "stream",
     "text": [
      "136\n",
      "0\n"
     ]
    },
    {
     "name": "stderr",
     "output_type": "stream",
     "text": [
      " 35%|█████████████████████████████████████████████████████▏                                                                                                  | 35/100 [05:59<10:24,  9.62s/it]"
     ]
    },
    {
     "name": "stdout",
     "output_type": "stream",
     "text": [
      "140\n",
      "0\n"
     ]
    },
    {
     "name": "stderr",
     "output_type": "stream",
     "text": [
      " 36%|██████████████████████████████████████████████████████▋                                                                                                 | 36/100 [06:07<09:47,  9.19s/it]"
     ]
    },
    {
     "name": "stdout",
     "output_type": "stream",
     "text": [
      "144\n",
      "0\n"
     ]
    },
    {
     "name": "stderr",
     "output_type": "stream",
     "text": [
      " 37%|████████████████████████████████████████████████████████▏                                                                                               | 37/100 [06:15<09:20,  8.89s/it]"
     ]
    },
    {
     "name": "stdout",
     "output_type": "stream",
     "text": [
      "148\n",
      "0\n"
     ]
    },
    {
     "name": "stderr",
     "output_type": "stream",
     "text": [
      " 38%|█████████████████████████████████████████████████████████▊                                                                                              | 38/100 [06:22<08:35,  8.32s/it]"
     ]
    },
    {
     "name": "stdout",
     "output_type": "stream",
     "text": [
      "152\n",
      "0\n"
     ]
    },
    {
     "name": "stderr",
     "output_type": "stream",
     "text": [
      " 39%|███████████████████████████████████████████████████████████▎                                                                                            | 39/100 [06:35<09:35,  9.44s/it]"
     ]
    },
    {
     "name": "stdout",
     "output_type": "stream",
     "text": [
      "156\n",
      "0\n"
     ]
    },
    {
     "name": "stderr",
     "output_type": "stream",
     "text": [
      " 40%|████████████████████████████████████████████████████████████▊                                                                                           | 40/100 [06:47<10:18, 10.31s/it]"
     ]
    },
    {
     "name": "stdout",
     "output_type": "stream",
     "text": [
      "160\n",
      "0\n"
     ]
    },
    {
     "name": "stderr",
     "output_type": "stream",
     "text": [
      " 41%|██████████████████████████████████████████████████████████████▎                                                                                         | 41/100 [06:58<10:27, 10.63s/it]"
     ]
    },
    {
     "name": "stdout",
     "output_type": "stream",
     "text": [
      "164\n",
      "0\n"
     ]
    },
    {
     "name": "stderr",
     "output_type": "stream",
     "text": [
      " 42%|███████████████████████████████████████████████████████████████▊                                                                                        | 42/100 [07:06<09:20,  9.66s/it]"
     ]
    },
    {
     "name": "stdout",
     "output_type": "stream",
     "text": [
      "168\n",
      "0\n"
     ]
    },
    {
     "name": "stderr",
     "output_type": "stream",
     "text": [
      " 43%|█████████████████████████████████████████████████████████████████▎                                                                                      | 43/100 [07:15<08:58,  9.45s/it]"
     ]
    },
    {
     "name": "stdout",
     "output_type": "stream",
     "text": [
      "172\n",
      "0\n"
     ]
    },
    {
     "name": "stderr",
     "output_type": "stream",
     "text": [
      " 44%|██████████████████████████████████████████████████████████████████▉                                                                                     | 44/100 [07:31<10:39, 11.42s/it]"
     ]
    },
    {
     "name": "stdout",
     "output_type": "stream",
     "text": [
      "176\n",
      "0\n"
     ]
    },
    {
     "name": "stderr",
     "output_type": "stream",
     "text": [
      " 45%|████████████████████████████████████████████████████████████████████▍                                                                                   | 45/100 [07:41<10:18, 11.25s/it]"
     ]
    },
    {
     "name": "stdout",
     "output_type": "stream",
     "text": [
      "180\n",
      "0\n"
     ]
    },
    {
     "name": "stderr",
     "output_type": "stream",
     "text": [
      " 46%|█████████████████████████████████████████████████████████████████████▉                                                                                  | 46/100 [07:50<09:17, 10.32s/it]"
     ]
    },
    {
     "name": "stdout",
     "output_type": "stream",
     "text": [
      "184\n",
      "0\n"
     ]
    },
    {
     "name": "stderr",
     "output_type": "stream",
     "text": [
      " 47%|███████████████████████████████████████████████████████████████████████▍                                                                                | 47/100 [07:57<08:17,  9.39s/it]"
     ]
    },
    {
     "name": "stdout",
     "output_type": "stream",
     "text": [
      "188\n",
      "0\n"
     ]
    },
    {
     "name": "stderr",
     "output_type": "stream",
     "text": [
      " 48%|████████████████████████████████████████████████████████████████████████▉                                                                               | 48/100 [08:07<08:19,  9.60s/it]"
     ]
    },
    {
     "name": "stdout",
     "output_type": "stream",
     "text": [
      "192\n",
      "0\n"
     ]
    },
    {
     "name": "stderr",
     "output_type": "stream",
     "text": [
      " 49%|██████████████████████████████████████████████████████████████████████████▍                                                                             | 49/100 [08:15<07:40,  9.03s/it]"
     ]
    },
    {
     "name": "stdout",
     "output_type": "stream",
     "text": [
      "196\n",
      "0\n"
     ]
    },
    {
     "name": "stderr",
     "output_type": "stream",
     "text": [
      " 50%|████████████████████████████████████████████████████████████████████████████                                                                            | 50/100 [08:23<07:21,  8.83s/it]"
     ]
    },
    {
     "name": "stdout",
     "output_type": "stream",
     "text": [
      "200\n",
      "0\n"
     ]
    },
    {
     "name": "stderr",
     "output_type": "stream",
     "text": [
      " 51%|█████████████████████████████████████████████████████████████████████████████▌                                                                          | 51/100 [08:32<07:14,  8.86s/it]"
     ]
    },
    {
     "name": "stdout",
     "output_type": "stream",
     "text": [
      "204\n",
      "0\n"
     ]
    },
    {
     "name": "stderr",
     "output_type": "stream",
     "text": [
      " 52%|███████████████████████████████████████████████████████████████████████████████                                                                         | 52/100 [08:42<07:18,  9.14s/it]"
     ]
    },
    {
     "name": "stdout",
     "output_type": "stream",
     "text": [
      "208\n",
      "0\n"
     ]
    },
    {
     "name": "stderr",
     "output_type": "stream",
     "text": [
      " 53%|████████████████████████████████████████████████████████████████████████████████▌                                                                       | 53/100 [08:51<07:16,  9.28s/it]"
     ]
    },
    {
     "name": "stdout",
     "output_type": "stream",
     "text": [
      "212\n",
      "0\n"
     ]
    },
    {
     "name": "stderr",
     "output_type": "stream",
     "text": [
      " 54%|██████████████████████████████████████████████████████████████████████████████████                                                                      | 54/100 [08:59<06:39,  8.69s/it]"
     ]
    },
    {
     "name": "stdout",
     "output_type": "stream",
     "text": [
      "216\n",
      "0\n"
     ]
    },
    {
     "name": "stderr",
     "output_type": "stream",
     "text": [
      " 55%|███████████████████████████████████████████████████████████████████████████████████▌                                                                    | 55/100 [09:09<06:59,  9.32s/it]"
     ]
    },
    {
     "name": "stdout",
     "output_type": "stream",
     "text": [
      "220\n",
      "0\n"
     ]
    },
    {
     "name": "stderr",
     "output_type": "stream",
     "text": [
      " 56%|█████████████████████████████████████████████████████████████████████████████████████                                                                   | 56/100 [09:19<06:56,  9.47s/it]"
     ]
    },
    {
     "name": "stdout",
     "output_type": "stream",
     "text": [
      "224\n",
      "0\n"
     ]
    },
    {
     "name": "stderr",
     "output_type": "stream",
     "text": [
      " 57%|██████████████████████████████████████████████████████████████████████████████████████▋                                                                 | 57/100 [09:27<06:25,  8.96s/it]"
     ]
    },
    {
     "name": "stdout",
     "output_type": "stream",
     "text": [
      "228\n",
      "0\n"
     ]
    },
    {
     "name": "stderr",
     "output_type": "stream",
     "text": [
      " 58%|████████████████████████████████████████████████████████████████████████████████████████▏                                                               | 58/100 [09:34<05:57,  8.51s/it]"
     ]
    },
    {
     "name": "stdout",
     "output_type": "stream",
     "text": [
      "232\n",
      "0\n"
     ]
    },
    {
     "name": "stderr",
     "output_type": "stream",
     "text": [
      " 59%|█████████████████████████████████████████████████████████████████████████████████████████▋                                                              | 59/100 [09:42<05:42,  8.37s/it]"
     ]
    },
    {
     "name": "stdout",
     "output_type": "stream",
     "text": [
      "236\n",
      "0\n"
     ]
    },
    {
     "name": "stderr",
     "output_type": "stream",
     "text": [
      " 60%|███████████████████████████████████████████████████████████████████████████████████████████▏                                                            | 60/100 [09:56<06:38,  9.96s/it]"
     ]
    },
    {
     "name": "stdout",
     "output_type": "stream",
     "text": [
      "240\n",
      "0\n"
     ]
    },
    {
     "name": "stderr",
     "output_type": "stream",
     "text": [
      " 61%|████████████████████████████████████████████████████████████████████████████████████████████▋                                                           | 61/100 [10:04<06:03,  9.33s/it]"
     ]
    },
    {
     "name": "stdout",
     "output_type": "stream",
     "text": [
      "244\n",
      "0\n"
     ]
    },
    {
     "name": "stderr",
     "output_type": "stream",
     "text": [
      " 62%|██████████████████████████████████████████████████████████████████████████████████████████████▏                                                         | 62/100 [10:11<05:29,  8.67s/it]"
     ]
    },
    {
     "name": "stdout",
     "output_type": "stream",
     "text": [
      "248\n",
      "0\n"
     ]
    },
    {
     "name": "stderr",
     "output_type": "stream",
     "text": [
      " 63%|███████████████████████████████████████████████████████████████████████████████████████████████▊                                                        | 63/100 [10:22<05:40,  9.20s/it]"
     ]
    },
    {
     "name": "stdout",
     "output_type": "stream",
     "text": [
      "252\n",
      "0\n"
     ]
    },
    {
     "name": "stderr",
     "output_type": "stream",
     "text": [
      " 64%|█████████████████████████████████████████████████████████████████████████████████████████████████▎                                                      | 64/100 [10:29<05:08,  8.58s/it]"
     ]
    },
    {
     "name": "stdout",
     "output_type": "stream",
     "text": [
      "256\n",
      "0\n"
     ]
    },
    {
     "name": "stderr",
     "output_type": "stream",
     "text": [
      " 65%|██████████████████████████████████████████████████████████████████████████████████████████████████▊                                                     | 65/100 [10:35<04:36,  7.91s/it]"
     ]
    },
    {
     "name": "stdout",
     "output_type": "stream",
     "text": [
      "260\n",
      "0\n"
     ]
    },
    {
     "name": "stderr",
     "output_type": "stream",
     "text": [
      " 66%|████████████████████████████████████████████████████████████████████████████████████████████████████▎                                                   | 66/100 [10:41<04:13,  7.44s/it]"
     ]
    },
    {
     "name": "stdout",
     "output_type": "stream",
     "text": [
      "264\n",
      "0\n"
     ]
    },
    {
     "name": "stderr",
     "output_type": "stream",
     "text": [
      " 67%|█████████████████████████████████████████████████████████████████████████████████████████████████████▊                                                  | 67/100 [10:51<04:26,  8.07s/it]"
     ]
    },
    {
     "name": "stdout",
     "output_type": "stream",
     "text": [
      "268\n",
      "0\n"
     ]
    },
    {
     "name": "stderr",
     "output_type": "stream",
     "text": [
      " 68%|███████████████████████████████████████████████████████████████████████████████████████████████████████▎                                                | 68/100 [10:59<04:22,  8.20s/it]"
     ]
    },
    {
     "name": "stdout",
     "output_type": "stream",
     "text": [
      "272\n",
      "0\n"
     ]
    },
    {
     "name": "stderr",
     "output_type": "stream",
     "text": [
      " 69%|████████████████████████████████████████████████████████████████████████████████████████████████████████▉                                               | 69/100 [11:13<05:01,  9.74s/it]"
     ]
    },
    {
     "name": "stdout",
     "output_type": "stream",
     "text": [
      "276\n",
      "0\n"
     ]
    },
    {
     "name": "stderr",
     "output_type": "stream",
     "text": [
      " 70%|██████████████████████████████████████████████████████████████████████████████████████████████████████████▍                                             | 70/100 [11:21<04:39,  9.32s/it]"
     ]
    },
    {
     "name": "stdout",
     "output_type": "stream",
     "text": [
      "280\n",
      "0\n"
     ]
    },
    {
     "name": "stderr",
     "output_type": "stream",
     "text": [
      " 71%|███████████████████████████████████████████████████████████████████████████████████████████████████████████▉                                            | 71/100 [11:29<04:21,  9.01s/it]"
     ]
    },
    {
     "name": "stdout",
     "output_type": "stream",
     "text": [
      "284\n",
      "0\n"
     ]
    },
    {
     "name": "stderr",
     "output_type": "stream",
     "text": [
      " 72%|█████████████████████████████████████████████████████████████████████████████████████████████████████████████▍                                          | 72/100 [11:38<04:10,  8.96s/it]"
     ]
    },
    {
     "name": "stdout",
     "output_type": "stream",
     "text": [
      "288\n",
      "0\n"
     ]
    },
    {
     "name": "stderr",
     "output_type": "stream",
     "text": [
      " 73%|██████████████████████████████████████████████████████████████████████████████████████████████████████████████▉                                         | 73/100 [11:48<04:07,  9.17s/it]"
     ]
    },
    {
     "name": "stdout",
     "output_type": "stream",
     "text": [
      "292\n",
      "0\n"
     ]
    },
    {
     "name": "stderr",
     "output_type": "stream",
     "text": [
      " 74%|████████████████████████████████████████████████████████████████████████████████████████████████████████████████▍                                       | 74/100 [11:58<04:06,  9.47s/it]"
     ]
    },
    {
     "name": "stdout",
     "output_type": "stream",
     "text": [
      "296\n",
      "0\n"
     ]
    },
    {
     "name": "stderr",
     "output_type": "stream",
     "text": [
      " 75%|██████████████████████████████████████████████████████████████████████████████████████████████████████████████████                                      | 75/100 [12:06<03:43,  8.92s/it]"
     ]
    },
    {
     "name": "stdout",
     "output_type": "stream",
     "text": [
      "300\n",
      "0\n"
     ]
    },
    {
     "name": "stderr",
     "output_type": "stream",
     "text": [
      " 76%|███████████████████████████████████████████████████████████████████████████████████████████████████████████████████▌                                    | 76/100 [12:15<03:34,  8.92s/it]"
     ]
    },
    {
     "name": "stdout",
     "output_type": "stream",
     "text": [
      "304\n",
      "0\n"
     ]
    },
    {
     "name": "stderr",
     "output_type": "stream",
     "text": [
      " 77%|█████████████████████████████████████████████████████████████████████████████████████████████████████████████████████                                   | 77/100 [12:26<03:39,  9.53s/it]"
     ]
    },
    {
     "name": "stdout",
     "output_type": "stream",
     "text": [
      "308\n",
      "0\n"
     ]
    },
    {
     "name": "stderr",
     "output_type": "stream",
     "text": [
      " 78%|██████████████████████████████████████████████████████████████████████████████████████████████████████████████████████▌                                 | 78/100 [12:35<03:26,  9.39s/it]"
     ]
    },
    {
     "name": "stdout",
     "output_type": "stream",
     "text": [
      "312\n",
      "0\n"
     ]
    },
    {
     "name": "stderr",
     "output_type": "stream",
     "text": [
      " 79%|████████████████████████████████████████████████████████████████████████████████████████████████████████████████████████                                | 79/100 [12:43<03:12,  9.17s/it]"
     ]
    },
    {
     "name": "stdout",
     "output_type": "stream",
     "text": [
      "316\n",
      "0\n"
     ]
    },
    {
     "name": "stderr",
     "output_type": "stream",
     "text": [
      " 80%|█████████████████████████████████████████████████████████████████████████████████████████████████████████████████████████▌                              | 80/100 [12:57<03:31, 10.60s/it]"
     ]
    },
    {
     "name": "stdout",
     "output_type": "stream",
     "text": [
      "320\n",
      "0\n"
     ]
    },
    {
     "name": "stderr",
     "output_type": "stream",
     "text": [
      " 81%|███████████████████████████████████████████████████████████████████████████████████████████████████████████████████████████                             | 81/100 [13:08<03:22, 10.65s/it]"
     ]
    },
    {
     "name": "stdout",
     "output_type": "stream",
     "text": [
      "324\n",
      "0\n"
     ]
    },
    {
     "name": "stderr",
     "output_type": "stream",
     "text": [
      " 82%|████████████████████████████████████████████████████████████████████████████████████████████████████████████████████████████▋                           | 82/100 [13:17<03:04, 10.23s/it]"
     ]
    },
    {
     "name": "stdout",
     "output_type": "stream",
     "text": [
      "328\n",
      "0\n"
     ]
    },
    {
     "name": "stderr",
     "output_type": "stream",
     "text": [
      " 83%|██████████████████████████████████████████████████████████████████████████████████████████████████████████████████████████████▏                         | 83/100 [13:26<02:47,  9.87s/it]"
     ]
    },
    {
     "name": "stdout",
     "output_type": "stream",
     "text": [
      "332\n",
      "0\n"
     ]
    },
    {
     "name": "stderr",
     "output_type": "stream",
     "text": [
      " 84%|███████████████████████████████████████████████████████████████████████████████████████████████████████████████████████████████▋                        | 84/100 [13:38<02:47, 10.48s/it]"
     ]
    },
    {
     "name": "stdout",
     "output_type": "stream",
     "text": [
      "336\n",
      "0\n"
     ]
    },
    {
     "name": "stderr",
     "output_type": "stream",
     "text": [
      " 85%|█████████████████████████████████████████████████████████████████████████████████████████████████████████████████████████████████▏                      | 85/100 [13:46<02:25,  9.71s/it]"
     ]
    },
    {
     "name": "stdout",
     "output_type": "stream",
     "text": [
      "340\n",
      "0\n"
     ]
    },
    {
     "name": "stderr",
     "output_type": "stream",
     "text": [
      " 86%|██████████████████████████████████████████████████████████████████████████████████████████████████████████████████████████████████▋                     | 86/100 [13:56<02:14,  9.61s/it]"
     ]
    },
    {
     "name": "stdout",
     "output_type": "stream",
     "text": [
      "344\n",
      "0\n"
     ]
    },
    {
     "name": "stderr",
     "output_type": "stream",
     "text": [
      " 87%|████████████████████████████████████████████████████████████████████████████████████████████████████████████████████████████████████▏                   | 87/100 [14:05<02:02,  9.43s/it]"
     ]
    },
    {
     "name": "stdout",
     "output_type": "stream",
     "text": [
      "348\n",
      "0\n"
     ]
    },
    {
     "name": "stderr",
     "output_type": "stream",
     "text": [
      " 88%|█████████████████████████████████████████████████████████████████████████████████████████████████████████████████████████████████████▊                  | 88/100 [14:14<01:54,  9.52s/it]"
     ]
    },
    {
     "name": "stdout",
     "output_type": "stream",
     "text": [
      "352\n",
      "0\n"
     ]
    },
    {
     "name": "stderr",
     "output_type": "stream",
     "text": [
      " 89%|███████████████████████████████████████████████████████████████████████████████████████████████████████████████████████████████████████▎                | 89/100 [14:26<01:53, 10.34s/it]"
     ]
    },
    {
     "name": "stdout",
     "output_type": "stream",
     "text": [
      "356\n",
      "0\n"
     ]
    },
    {
     "name": "stderr",
     "output_type": "stream",
     "text": [
      " 90%|████████████████████████████████████████████████████████████████████████████████████████████████████████████████████████████████████████▊               | 90/100 [14:39<01:49, 10.94s/it]"
     ]
    },
    {
     "name": "stdout",
     "output_type": "stream",
     "text": [
      "360\n",
      "0\n"
     ]
    },
    {
     "name": "stderr",
     "output_type": "stream",
     "text": [
      " 91%|██████████████████████████████████████████████████████████████████████████████████████████████████████████████████████████████████████████▎             | 91/100 [14:49<01:36, 10.75s/it]"
     ]
    },
    {
     "name": "stdout",
     "output_type": "stream",
     "text": [
      "364\n",
      "0\n"
     ]
    },
    {
     "name": "stderr",
     "output_type": "stream",
     "text": [
      " 92%|███████████████████████████████████████████████████████████████████████████████████████████████████████████████████████████████████████████▊            | 92/100 [14:58<01:22, 10.26s/it]"
     ]
    },
    {
     "name": "stdout",
     "output_type": "stream",
     "text": [
      "368\n",
      "0\n"
     ]
    },
    {
     "name": "stderr",
     "output_type": "stream",
     "text": [
      " 93%|█████████████████████████████████████████████████████████████████████████████████████████████████████████████████████████████████████████████▎          | 93/100 [15:12<01:19, 11.32s/it]"
     ]
    },
    {
     "name": "stdout",
     "output_type": "stream",
     "text": [
      "372\n",
      "0\n"
     ]
    },
    {
     "name": "stderr",
     "output_type": "stream",
     "text": [
      " 94%|██████████████████████████████████████████████████████████████████████████████████████████████████████████████████████████████████████████████▉         | 94/100 [15:26<01:12, 12.10s/it]"
     ]
    },
    {
     "name": "stdout",
     "output_type": "stream",
     "text": [
      "376\n",
      "0\n"
     ]
    },
    {
     "name": "stderr",
     "output_type": "stream",
     "text": [
      " 95%|████████████████████████████████████████████████████████████████████████████████████████████████████████████████████████████████████████████████▍       | 95/100 [15:38<01:00, 12.13s/it]"
     ]
    },
    {
     "name": "stdout",
     "output_type": "stream",
     "text": [
      "380\n",
      "0\n"
     ]
    },
    {
     "name": "stderr",
     "output_type": "stream",
     "text": [
      " 96%|█████████████████████████████████████████████████████████████████████████████████████████████████████████████████████████████████████████████████▉      | 96/100 [15:50<00:47, 11.93s/it]"
     ]
    },
    {
     "name": "stdout",
     "output_type": "stream",
     "text": [
      "384\n",
      "0\n"
     ]
    },
    {
     "name": "stderr",
     "output_type": "stream",
     "text": [
      " 97%|███████████████████████████████████████████████████████████████████████████████████████████████████████████████████████████████████████████████████▍    | 97/100 [15:59<00:33, 11.08s/it]"
     ]
    },
    {
     "name": "stdout",
     "output_type": "stream",
     "text": [
      "388\n",
      "0\n"
     ]
    },
    {
     "name": "stderr",
     "output_type": "stream",
     "text": [
      " 98%|████████████████████████████████████████████████████████████████████████████████████████████████████████████████████████████████████████████████████▉   | 98/100 [16:14<00:24, 12.36s/it]"
     ]
    },
    {
     "name": "stdout",
     "output_type": "stream",
     "text": [
      "392\n",
      "0\n"
     ]
    },
    {
     "name": "stderr",
     "output_type": "stream",
     "text": [
      " 99%|██████████████████████████████████████████████████████████████████████████████████████████████████████████████████████████████████████████████████████▍ | 99/100 [16:22<00:10, 10.89s/it]"
     ]
    },
    {
     "name": "stdout",
     "output_type": "stream",
     "text": [
      "396\n",
      "0\n"
     ]
    },
    {
     "name": "stderr",
     "output_type": "stream",
     "text": [
      "100%|███████████████████████████████████████████████████████████████████████████████████████████████████████████████████████████████████████████████████████| 100/100 [16:33<00:00,  9.93s/it]"
     ]
    },
    {
     "name": "stdout",
     "output_type": "stream",
     "text": [
      "400\n",
      "0\n"
     ]
    },
    {
     "name": "stderr",
     "output_type": "stream",
     "text": [
      "\n"
     ]
    },
    {
     "name": "stdout",
     "output_type": "stream",
     "text": [
      "Scores:\n",
      "{'Overall': 2.439449044145628, 'Egyptain': 1.4589699087075174, 'Emirati': 1.629501784096123, 'Jordanian': 3.7207143800592055, 'Palestinian': 2.4842732138018357}\n"
     ]
    }
   ],
   "source": [
    "\n",
    "\n",
    "\n",
    "predictions = []\n",
    "labels = []\n",
    "\n",
    "\n",
    "torch.cuda.empty_cache()\n",
    "\n",
    "\n",
    "for batch in tqdm(val_dataloader):\n",
    "\n",
    "    prompts = batch['prompt']\n",
    "    ans = []\n",
    "\n",
    "    labels.extend(batch['target'])\n",
    "\n",
    "    output_text = inference(prompts=prompts, tokenizer=tokenizer, model=model)\n",
    "\n",
    "    predictions.extend(output_text)\n",
    "\n",
    "    print(len(predictions))\n",
    "    print(invalid)\n",
    "    # break\n",
    "assert (len(predictions) == len(labels))\n",
    "\n",
    "preds_file = save_file + '_predictions.txt'\n",
    "save_file =   save_file + '_results.txt'\n",
    "\n",
    "\n",
    "with open(preds_file, 'w') as f:\n",
    "    for item in predictions:\n",
    "        f.write(\"%s\\n\" % item)\n",
    "\n",
    "calc_results(predictions, labels, save_file,chunk_size)\n",
    "    "
   ]
  },
  {
   "cell_type": "code",
   "execution_count": 10,
   "id": "1ae57c04-2018-4a7d-a2d8-e0bfac6b0f48",
   "metadata": {},
   "outputs": [
    {
     "data": {
      "text/plain": [
       "400"
      ]
     },
     "execution_count": 10,
     "metadata": {},
     "output_type": "execute_result"
    }
   ],
   "source": [
    "len(predictions) "
   ]
  },
  {
   "cell_type": "code",
   "execution_count": 11,
   "id": "29acb557-1303-40ad-b052-097a6c744ead",
   "metadata": {},
   "outputs": [
    {
     "name": "stdout",
     "output_type": "stream",
     "text": [
      "أخرج الرجال الذين تريدهم من موقف السيارات ، وقم بتفتيش هذه المنطقة حتى تعثر عليهم.\n"
     ]
    }
   ],
   "source": [
    "device = \"cuda\"\n",
    "\n",
    "model.to(device)\n",
    "def get_response(text,tokenizer=tokenizer,model=model):\n",
    "    \n",
    "\n",
    "    \n",
    "    input_ids = tokenizer(text, return_tensors=\"pt\") # .input_ids\n",
    "    inputs = input_ids.to(device)\n",
    "    # input_len = inputs.shape[-1]\n",
    "    generate_ids = model.generate(\n",
    "        **inputs,\n",
    "        top_p=0.5,\n",
    "        temperature=0.5,\n",
    "         max_new_tokens=32,\n",
    "        repetition_penalty=1.2,\n",
    "        do_sample=True,\n",
    "    )\n",
    "    \n",
    "    answer_tokens = generate_ids[:, inputs.input_ids.shape[1] :]\n",
    "    response = tokenizer.batch_decode(\n",
    "        answer_tokens, skip_special_tokens=True, clean_up_tokenization_spaces=True\n",
    "    )[0]\n",
    "    return response\n",
    "\n",
    "\n",
    "# text = '''.فيما يلي جملة باللهجة العربية المصرية. يرجى ترجمتها إلى اللغة العربية الفصحى الحديثة\n",
    "# طّلع الرجالة اللي انت عايزهم من الجراج و قطاع النقل يمشّطوا المناطق دي لحد ما يلاقوهم\n",
    "# '''\n",
    "\n",
    "text='''The following is a sentence in Egyptain Arabic dialect. Please translate it to Modern Standard Arabic (MSA).\n",
    "طّلع الرجالة اللي انت عايزهم من الجراج و قطاع النقل يمشّطوا المناطق دي لحد ما يلاقوهم.\n",
    "'''\n",
    "text = dataset['prompt'][0]\n",
    "print(get_response(text))\n",
    "\n",
    "# text = \"The capital of UAE is\"\n",
    "# print(get_response(text))"
   ]
  },
  {
   "cell_type": "code",
   "execution_count": 12,
   "id": "ce2fc20e-a9f2-4303-a193-c982d8a49d3c",
   "metadata": {},
   "outputs": [
    {
     "data": {
      "text/plain": [
       "True"
      ]
     },
     "execution_count": 12,
     "metadata": {},
     "output_type": "execute_result"
    }
   ],
   "source": [
    "next(model.parameters()).is_cuda"
   ]
  },
  {
   "cell_type": "code",
   "execution_count": 13,
   "id": "7b546f23-cd9c-46b4-92f5-e30cf5dd239e",
   "metadata": {},
   "outputs": [
    {
     "data": {
      "text/plain": [
       "['### Instruction: The following is a sentence in Egyptain_510 Arabic dialect. Please translate it to Modern Standard Arabic (MSA).\\n\\n### Input:\\nطّلع الرجالة اللي انت عايزهم من الجراج و قطاع النقل يمشّطوا المناطق دي لحد ما يلاقوهم.\\n\\n### Response:',\n",
       " '### Instruction: The following is a sentence in Egyptain_348 Arabic dialect. Please translate it to Modern Standard Arabic (MSA).\\n\\n### Input:\\nخمسة و ستين قلم ده لازم يبقي معاه كلكوليتر ساعتها و لا ايه؟ \\n\\n### Response:',\n",
       " '### Instruction: The following is a sentence in Egyptain_353 Arabic dialect. Please translate it to Modern Standard Arabic (MSA).\\n\\n### Input:\\nأنا بس عايزك ترتبي نفسك من دلوقتي إنك تبقي زي ستات عيلة الدالي.\\n\\n### Response:',\n",
       " '### Instruction: The following is a sentence in Egyptain_106 Arabic dialect. Please translate it to Modern Standard Arabic (MSA).\\n\\n### Input:\\nبصوا بقى أنا اللي استنيت و أنا اللي كسبت و أنا اللي حلمت يعني كل ده من حقي أنا أنا عارف طبعاً ان كل واحد فيكوا كان بيساعدنا، أبو النجا كان بيساعد من مرتبه يشكر، جعيدي كان بيأكلنا من الزرع اللي بيعمله فوق السطوح و يشكر، بيبيتو كان بيسرح علينا بالجيتار و يشحت يشكر، أنا برضو مش ناسي كل ده و ان شاء الله هيكون يعني عندي. \\n\\n### Response:',\n",
       " '### Instruction: The following is a sentence in Egyptain_91 Arabic dialect. Please translate it to Modern Standard Arabic (MSA).\\n\\n### Input:\\nيعني بتاع الرياسة اللي كلمك مقالكش هما عايزينك في ايه؟\\n\\n### Response:',\n",
       " '### Instruction: The following is a sentence in Egyptain_148 Arabic dialect. Please translate it to Modern Standard Arabic (MSA).\\n\\n### Input:\\nانت جاي لحد هنا عشان تتهمني بالزور بتهمه أنا مليش علاقة بيها؟\\n\\n### Response:',\n",
       " '### Instruction: The following is a sentence in Egyptain_342 Arabic dialect. Please translate it to Modern Standard Arabic (MSA).\\n\\n### Input:\\nالمدام جايه معانا عشان زي ما تقولي حضرتك انها يعني معادها قرّب فبتلف معانا عشان يعني لو ربنا كرم و حصل تبقى قدامنا و نلحقها عقبال عندك يا حبيبتي عقبال عندك. \\n\\n### Response:',\n",
       " '### Instruction: The following is a sentence in Egyptain_218 Arabic dialect. Please translate it to Modern Standard Arabic (MSA).\\n\\n### Input:\\nمعلش يا سعد حقك عليا بس كنت حتجنن لما شوفت دراع البت.\\n\\n### Response:',\n",
       " '### Instruction: The following is a sentence in Egyptain_200 Arabic dialect. Please translate it to Modern Standard Arabic (MSA).\\n\\n### Input:\\nبس في الحقيقة أنا مستغرب من اهتمامك المفاجئ بالواد الصحفي ده. \\n\\n### Response:',\n",
       " '### Instruction: The following is a sentence in Egyptain_105 Arabic dialect. Please translate it to Modern Standard Arabic (MSA).\\n\\n### Input:\\nخمسين الف متر دول في طريق السويس، الاتنين و سبعين الف متر دول في زمام القطامية، المنطقة بقى من عند الكيلو تلاتة للكيلو تلاتة و عشرين طريق مصر اسكندرية الصحرواي فيها سبع حتت يعملوا يعملوا حوالي عشر الاف فدان. \\n\\n### Response:',\n",
       " '### Instruction: The following is a sentence in Egyptain_104 Arabic dialect. Please translate it to Modern Standard Arabic (MSA).\\n\\n### Input:\\nأنا متطلبتش من حد انه يعور الراجل اللي كان عند مدام الفت. \\n\\n### Response:',\n",
       " '### Instruction: The following is a sentence in Egyptain_143 Arabic dialect. Please translate it to Modern Standard Arabic (MSA).\\n\\n### Input:\\nطب بص يا استاذ ايه رأيك حضرتك لو نبني ديكور؟\\n\\n### Response:',\n",
       " '### Instruction: The following is a sentence in Egyptain_155 Arabic dialect. Please translate it to Modern Standard Arabic (MSA).\\n\\n### Input:\\nمش عارف حكاية اللي اسمه سعد الدالي ده ايه! كل يوم و التاني له حكاية، مره ابنه و مره مراته. حقه اللي اسمها ايه دي اسمها ايه دي؟\\n\\n### Response:',\n",
       " '### Instruction: The following is a sentence in Egyptain_401 Arabic dialect. Please translate it to Modern Standard Arabic (MSA).\\n\\n### Input:\\nطب ايه بقى اللي انت قولته و خليت الريس يقلب عليك بالشكل ده؟ \\n\\n### Response:',\n",
       " '### Instruction: The following is a sentence in Egyptain_317 Arabic dialect. Please translate it to Modern Standard Arabic (MSA).\\n\\n### Input:\\nبحترم رغبة سعد في انها تفضل موجودة في السوق و بقوة من غير خلافات و لا هزات سعد لو عرف اللي عمله خالد الدالي مش هيرحمه. \\n\\n### Response:',\n",
       " '### Instruction: The following is a sentence in Egyptain_487 Arabic dialect. Please translate it to Modern Standard Arabic (MSA).\\n\\n### Input:\\nهو ايه العبارة يا خونا ايه يا استاذ مش الاستاذ بيبتو ولامؤاخزة هو اللي كان مشلول\\n\\n### Response:',\n",
       " '### Instruction: The following is a sentence in Egyptain_303 Arabic dialect. Please translate it to Modern Standard Arabic (MSA).\\n\\n### Input:\\nكبرت و هولعلكوا في كل حاجتكوا و هحرق قلبكوا زي ما حرقتوا قلبي.\\n\\n### Response:',\n",
       " '### Instruction: The following is a sentence in Egyptain_338 Arabic dialect. Please translate it to Modern Standard Arabic (MSA).\\n\\n### Input:\\nاسمحلي يا سعد أنا مش موافق علي الخطوة دي مش موافق خالص ده انتحار رسمي مش نصر اقتصادي. \\n\\n### Response:',\n",
       " '### Instruction: The following is a sentence in Egyptain_219 Arabic dialect. Please translate it to Modern Standard Arabic (MSA).\\n\\n### Input:\\nمين يالا اللي علمك الحركة اللذيذة دي؟ علمهاني علمهاني بتتكلم و انت بؤك مقفول؟\\n\\n### Response:',\n",
       " '### Instruction: The following is a sentence in Egyptain_39 Arabic dialect. Please translate it to Modern Standard Arabic (MSA).\\n\\n### Input:\\nعشان أعرف مين اللي ورا الحادثة بتاعتي أنا و حسام؟\\n\\n### Response:',\n",
       " '### Instruction: The following is a sentence in Egyptain_524 Arabic dialect. Please translate it to Modern Standard Arabic (MSA).\\n\\n### Input:\\n بقى يا ربي حتى ماما مش عارف الاقيلها مدخل و بعدين جوازة ايه المفاجئة اللي بابا محضرهالي دي هو أنا ايه مليش رأي في البيت ده ؟\\n\\n### Response:',\n",
       " '### Instruction: The following is a sentence in Egyptain_347 Arabic dialect. Please translate it to Modern Standard Arabic (MSA).\\n\\n### Input:\\nبلا مسقعة بلا رز بلبن اقعد ساكت بلاش كلام فارغ.\\n\\n### Response:',\n",
       " '### Instruction: The following is a sentence in Egyptain_440 Arabic dialect. Please translate it to Modern Standard Arabic (MSA).\\n\\n### Input:\\nو ايه الاحتمال بقى اللي جه بال العبقري ده و مجاش على بالنا احنا؟\\n\\n### Response:',\n",
       " '### Instruction: The following is a sentence in Egyptain_323 Arabic dialect. Please translate it to Modern Standard Arabic (MSA).\\n\\n### Input:\\nاندهش من اجابتي ليه، قولتله يا فندم يشرفني اني يتقال عليا معلم حتى لو معايا دكتوراه في الهندسة\\n\\n### Response:',\n",
       " '### Instruction: The following is a sentence in Egyptain_230 Arabic dialect. Please translate it to Modern Standard Arabic (MSA).\\n\\n### Input:\\nو انتي يا بابا انتي رقبتك برقبة الواد كريم التخين الوحش. \\n\\n### Response:',\n",
       " '### Instruction: The following is a sentence in Egyptain_110 Arabic dialect. Please translate it to Modern Standard Arabic (MSA).\\n\\n### Input:\\nأنا معجبه بصراحة ربنا بأفكاري لان لولا أفكاري اللي أنا فكرتها الفوكيره دي البت دي مكانتش قلبها حيرق و تشغلنا. \\n\\n### Response:',\n",
       " '### Instruction: The following is a sentence in Egyptain_514 Arabic dialect. Please translate it to Modern Standard Arabic (MSA).\\n\\n### Input:\\nده ظلم ظلم و الله العظيم أنا لا يمكن أعمل أي حاجة ضد سعد بيه الدالي كل اللي حصل اني كنت رايحة عشان اطمن عليه. \\n\\n### Response:',\n",
       " '### Instruction: The following is a sentence in Egyptain_393 Arabic dialect. Please translate it to Modern Standard Arabic (MSA).\\n\\n### Input:\\nيا تنزلي مع ماما ألفت تشتغلي معاها في الى قالتلك عليه،\\n\\n### Response:',\n",
       " '### Instruction: The following is a sentence in Egyptain_511 Arabic dialect. Please translate it to Modern Standard Arabic (MSA).\\n\\n### Input:\\nو هما أربع سنين دول قليلين أنا أول شركة كبيرة عملتها في أربع سنين، الأربع سنين اللي بعدهم عملت أول مليون جنيه. \\n\\n### Response:',\n",
       " '### Instruction: The following is a sentence in Egyptain_81 Arabic dialect. Please translate it to Modern Standard Arabic (MSA).\\n\\n### Input:\\nلا ازاي بقى؟ انت نسيت يومين مهمين جدا معقولة! العيد الصغير والعيد الكبير\\n\\n### Response:',\n",
       " '### Instruction: The following is a sentence in Egyptain_273 Arabic dialect. Please translate it to Modern Standard Arabic (MSA).\\n\\n### Input:\\nيعني محدش قال مرشي يا رودي، تسلم ايدك يا رورو، أي حاجة من الحاجات دي!\\n\\n### Response:',\n",
       " '### Instruction: The following is a sentence in Egyptain_359 Arabic dialect. Please translate it to Modern Standard Arabic (MSA).\\n\\n### Input:\\nمحدش عارف الملعب حيفضل فاضي قد ايه قبل ما يرجع فيه سعد الدالي تاني؟ \\n\\n### Response:',\n",
       " '### Instruction: The following is a sentence in Egyptain_128 Arabic dialect. Please translate it to Modern Standard Arabic (MSA).\\n\\n### Input:\\nعدم المؤاخزة، الفت هانم أمرت بدخول عم عطيه حالاَ، اتفضل يا عم عطيه، اتفضل.\\n\\n### Response:',\n",
       " '### Instruction: The following is a sentence in Egyptain_517 Arabic dialect. Please translate it to Modern Standard Arabic (MSA).\\n\\n### Input:\\nو اخترعتي أحداث و مشاكل و لا أفلام زمان طب و بعدين؟ \\n\\n### Response:',\n",
       " '### Instruction: The following is a sentence in Egyptain_251 Arabic dialect. Please translate it to Modern Standard Arabic (MSA).\\n\\n### Input:\\nلكن تأكد لو كان عفان الويشي اللي كان ورا محاولة اغتيالي. \\n\\n### Response:',\n",
       " '### Instruction: The following is a sentence in Egyptain_555 Arabic dialect. Please translate it to Modern Standard Arabic (MSA).\\n\\n### Input:\\n توكلت على الله ووضعت يدي في يد مجموعة من الاخوان و قولنا بس ان شاء الله على بركة الله يعني تكون البداية من هنا. \\n\\n### Response:',\n",
       " '### Instruction: The following is a sentence in Egyptain_595 Arabic dialect. Please translate it to Modern Standard Arabic (MSA).\\n\\n### Input:\\nوكريم ينهي دراسته بكلية التجارة ويبحث عن الجائزة  الكبري في اعلانات الشاي او اللبان\\n\\n### Response:',\n",
       " '### Instruction: The following is a sentence in Egyptain_588 Arabic dialect. Please translate it to Modern Standard Arabic (MSA).\\n\\n### Input:\\nمعلش يا سعد بيه لولا اننا عارف ان الموضوع يهمك جداَ و يعتبر تطور بالنسبة لنا في قضيتك ماكنتش طلبت من حضرتك تيجي هنا تاني و بالسرعه دي.\\n\\n### Response:',\n",
       " '### Instruction: The following is a sentence in Egyptain_14 Arabic dialect. Please translate it to Modern Standard Arabic (MSA).\\n\\n### Input:\\nيا بني يا حبيبي يا بني يا حبيبي افهمني أنا عايز شقة حقيرة عايز حيطان مكسرة تواليتات طافحة عايز شبابيك بايظة انت مبتفهمش.\\n\\n### Response:',\n",
       " '### Instruction: The following is a sentence in Egyptain_570 Arabic dialect. Please translate it to Modern Standard Arabic (MSA).\\n\\n### Input:\\nبلاش خلافات و تعطّلوا المجموعة الأحسن نحط ايدينا في ايدين بعض عشان نفضل راكبين السوق.\\n\\n### Response:',\n",
       " '### Instruction: The following is a sentence in Egyptain_162 Arabic dialect. Please translate it to Modern Standard Arabic (MSA).\\n\\n### Input:\\nيا سعد السوق كله بيحسدوا على علاقكتوا ببعض و انت عارف ده كويس. \\n\\n### Response:',\n",
       " '### Instruction: The following is a sentence in Egyptain_258 Arabic dialect. Please translate it to Modern Standard Arabic (MSA).\\n\\n### Input:\\nسيادتك اطّلع علي الأوراق دي بنفسك عشان تعرف الموضوع رسي على مين و تعرف سعادتك حجم الكارثة اللي عملها ناصف مدكور قصدي ناصف بيه مدكور. \\n\\n### Response:',\n",
       " '### Instruction: The following is a sentence in Egyptain_520 Arabic dialect. Please translate it to Modern Standard Arabic (MSA).\\n\\n### Input:\\nمدحت قولي يا مدحت قولي مين أبويا مش عارف أطلع بطاقة لحد دلوقتي يا مدحت قولي مين أمي أرجوك؟\\n\\n### Response:',\n",
       " '### Instruction: The following is a sentence in Egyptain_160 Arabic dialect. Please translate it to Modern Standard Arabic (MSA).\\n\\n### Input:\\nده من سبع سنين و بعد كده اتعودت مع مجلس إدارة الثورة بشكل طبيعي لحد ما قدمت استقالتي و بقيت أشتغل بره مصر و جوه مصر و بعدين في النهاية أنا من أشد المؤمنين بمبادئ الثورة و أفكارها.\\n\\n### Response:',\n",
       " '### Instruction: The following is a sentence in Egyptain_69 Arabic dialect. Please translate it to Modern Standard Arabic (MSA).\\n\\n### Input:\\nوعد الحر ديناً عليه روح قول لصحابك ان بسبوسة اتنازلت عن القضية. \\n\\n### Response:',\n",
       " '### Instruction: The following is a sentence in Egyptain_42 Arabic dialect. Please translate it to Modern Standard Arabic (MSA).\\n\\n### Input:\\nجعجع مين دول يا خويا اللي عاوزين ياخدوا زمارة رقبتك؟ \\n\\n### Response:',\n",
       " '### Instruction: The following is a sentence in Egyptain_530 Arabic dialect. Please translate it to Modern Standard Arabic (MSA).\\n\\n### Input:\\nبسبوسة عندها حق و بعدين أنا مش عايز القضية دي بقى . \\n\\n### Response:',\n",
       " '### Instruction: The following is a sentence in Egyptain_424 Arabic dialect. Please translate it to Modern Standard Arabic (MSA).\\n\\n### Input:\\nأنا معنديش مانع نحط إيدينا في إيدين بعض بس مش لازم يبقى حد في الصورة غيري. \\n\\n### Response:',\n",
       " '### Instruction: The following is a sentence in Egyptain_320 Arabic dialect. Please translate it to Modern Standard Arabic (MSA).\\n\\n### Input:\\nهنقضي اليوم تهاني، رفقي بعد إذنك بلغ السكرتارية تمنع أي تليفونات لحد ما نخلص الاجتماع و نشوف كل واحد عمل ايه في اللي كلفناه بيه.\\n\\n### Response:',\n",
       " '### Instruction: The following is a sentence in Egyptain_341 Arabic dialect. Please translate it to Modern Standard Arabic (MSA).\\n\\n### Input:\\nلأن الأيام اللي جايه صعبة صعبة قوي أنا مش بخّوفك أنا بس بنبهك. \\n\\n### Response:',\n",
       " '### Instruction: The following is a sentence in Egyptain_13 Arabic dialect. Please translate it to Modern Standard Arabic (MSA).\\n\\n### Input:\\nو إن شاء الله بعون الله لما صحة الوالد كده تتحسن إحنا لينا زيارة خصوصي إن شاء الله.\\n\\n### Response:',\n",
       " '### Instruction: The following is a sentence in Egyptain_250 Arabic dialect. Please translate it to Modern Standard Arabic (MSA).\\n\\n### Input:\\nاومال ايه الحزن اللي في عنيك ده و ليه صوتك مخنوق بالشكل ده؟ \\n\\n### Response:',\n",
       " '### Instruction: The following is a sentence in Egyptain_206 Arabic dialect. Please translate it to Modern Standard Arabic (MSA).\\n\\n### Input:\\n العرايس الزيك يقعدوا مرتاحين و الدنيا كلها تخدمهم, ولا انتي عايزة تسرقي الأضواء مني أنا و عمك سعد الليلة دي\\n\\n### Response:',\n",
       " '### Instruction: The following is a sentence in Egyptain_34 Arabic dialect. Please translate it to Modern Standard Arabic (MSA).\\n\\n### Input:\\nالممثلين لما بيبقوا صحاب مع فريق العمل طبعاً مكان التصوير بيبقى مختلف تماماً تعالوا نشوف مع بعض الصحاب اللي بيمثلوا مع بعض و بيشتغلوا مع بعض بيعملوا ايه في بعض. \\n\\n### Response:',\n",
       " '### Instruction: The following is a sentence in Egyptain_546 Arabic dialect. Please translate it to Modern Standard Arabic (MSA).\\n\\n### Input:\\nباشا ديماَ على حق و بعدين في تاجر جملة جاي دلوقتي يستلم و يكّيش و المفروض تبقى انت و الزكي باشا موجودين عشان تاخدوا حقكوا.\\n\\n### Response:',\n",
       " '### Instruction: The following is a sentence in Egyptain_372 Arabic dialect. Please translate it to Modern Standard Arabic (MSA).\\n\\n### Input:\\nتفتكر اني هقف هنا بالليل و الحرس بتاعكم يحقق معايا عشان أهزر معاك؟\\n\\n### Response:',\n",
       " '### Instruction: The following is a sentence in Egyptain_142 Arabic dialect. Please translate it to Modern Standard Arabic (MSA).\\n\\n### Input:\\nمفيش حد في الحته ميعرفش انك محامي بس مع ايقاف التنفيس. \\n\\n### Response:',\n",
       " '### Instruction: The following is a sentence in Egyptain_478 Arabic dialect. Please translate it to Modern Standard Arabic (MSA).\\n\\n### Input:\\nيا جماعة المسألة بسيطة جداً كلها شوية تربيزتين على مفرشين على كوبيتين. \\n\\n### Response:',\n",
       " '### Instruction: The following is a sentence in Egyptain_54 Arabic dialect. Please translate it to Modern Standard Arabic (MSA).\\n\\n### Input:\\nاه بس متتأخرش عشان تلحق بسرعة و خد بالك من السوق السودة بيبعوا التذكرة بخمسة جنيه حرمية خد بالك.\\n\\n### Response:',\n",
       " '### Instruction: The following is a sentence in Egyptain_85 Arabic dialect. Please translate it to Modern Standard Arabic (MSA).\\n\\n### Input:\\nعشان يحاربوا أي واحد يرشح نفسه قصادك في الدايرة حتى لو كان المرشح ده واحد ست في أول تجربة ليها و ملهاش هدف غير انها تساعد الناس الغلابة بجد. \\n\\n### Response:',\n",
       " '### Instruction: The following is a sentence in Egyptain_174 Arabic dialect. Please translate it to Modern Standard Arabic (MSA).\\n\\n### Input:\\nايه الهبل ده انت اهبل خمسومية ايه و تلتومية ايه ازاي يعني؟ \\n\\n### Response:',\n",
       " '### Instruction: The following is a sentence in Egyptain_68 Arabic dialect. Please translate it to Modern Standard Arabic (MSA).\\n\\n### Input:\\nده تقصد يعني الشراكة القديمة اللي كانت بيني و بينك، و لا الشراكة الجديدة اللي كلمني عنها صفوت؟\\n\\n### Response:',\n",
       " '### Instruction: The following is a sentence in Egyptain_61 Arabic dialect. Please translate it to Modern Standard Arabic (MSA).\\n\\n### Input:\\nلكن الظروف اللي حصلت و لما عرفت بخبر حسام الله يرحمه. \\n\\n### Response:',\n",
       " '### Instruction: The following is a sentence in Egyptain_198 Arabic dialect. Please translate it to Modern Standard Arabic (MSA).\\n\\n### Input:\\nمش عايز لغبطة و لا تسرع علشان مننزلش على فشوش زي المرة اللي فاتت، اعترافات، أدلة متخرش الميه و من غير ما حد يمد ايده عليه. \\n\\n### Response:',\n",
       " '### Instruction: The following is a sentence in Egyptain_203 Arabic dialect. Please translate it to Modern Standard Arabic (MSA).\\n\\n### Input:\\nمئة جنيه ايه؟ خلي المئة جنيه معاكي امسكي دي الوصية بتاعتي وصيتي.\\n\\n### Response:',\n",
       " '### Instruction: The following is a sentence in Egyptain_35 Arabic dialect. Please translate it to Modern Standard Arabic (MSA).\\n\\n### Input:\\nيا نهار مش فايت أنا اصطبحت بوش مين النهاردة طب بقولك ايه؟ أي أخبار جديدة اديني خبر بيها علي طول مع السلامة يا خويا. \\n\\n### Response:',\n",
       " '### Instruction: The following is a sentence in Egyptain_552 Arabic dialect. Please translate it to Modern Standard Arabic (MSA).\\n\\n### Input:\\nو اتكلم مع دكتور هنداوي و أكد له انه هو في زيارة ودية لقصر سعد بيه و تقدر سعادتك تتصل بالسيد مدير الأمن و تتأكد من المعلومات دي. \\n\\n### Response:',\n",
       " '### Instruction: The following is a sentence in Egyptain_196 Arabic dialect. Please translate it to Modern Standard Arabic (MSA).\\n\\n### Input:\\nو عارف تحركاته بالسم عشان كده بقولك اللي انت ناوي تعمله ده انتحار. \\n\\n### Response:',\n",
       " '### Instruction: The following is a sentence in Egyptain_417 Arabic dialect. Please translate it to Modern Standard Arabic (MSA).\\n\\n### Input:\\nهنقّسم الاختصاصات علينا كلنا لغاية أبوك لما يقوم بالسلامة ابقى عدي على المجموعة شوفها ماشيه ازاي؟\\n\\n### Response:',\n",
       " '### Instruction: The following is a sentence in Egyptain_494 Arabic dialect. Please translate it to Modern Standard Arabic (MSA).\\n\\n### Input:\\nيا سلام ده الواحد كان، الله ايه ده  الواحد ميعرفش يتهنى في الحمام شوية الله تعبان سبني اقعد شوية!\\n\\n### Response:',\n",
       " '### Instruction: The following is a sentence in Egyptain_575 Arabic dialect. Please translate it to Modern Standard Arabic (MSA).\\n\\n### Input:\\nليه في ايه؟ هو مفيش قانون في البلد؟ خلاص تاهت و لاقيناها أبو النجا يقعد معاه و يتصرف هو مش محامي؟\\n\\n### Response:',\n",
       " '### Instruction: The following is a sentence in Egyptain_220 Arabic dialect. Please translate it to Modern Standard Arabic (MSA).\\n\\n### Input:\\nحتى لو سعد الدالي حط عينه على المشروع ده احنا برضو اللي هناخده. \\n\\n### Response:',\n",
       " '### Instruction: The following is a sentence in Egyptain_461 Arabic dialect. Please translate it to Modern Standard Arabic (MSA).\\n\\n### Input:\\nلأن هاني قالي ان المهندس جاسم مسنود و مش هيعدي الموضوع ببساطة. \\n\\n### Response:',\n",
       " '### Instruction: The following is a sentence in Egyptain_505 Arabic dialect. Please translate it to Modern Standard Arabic (MSA).\\n\\n### Input:\\nأهو يا سيدي اتفضل ابقى خليه ياكل في البيت كويس جداً لانه خلصّلنا كل الشباشب و الملايات و المراتب و كل حاجة و أقولك على حاجة متنيموش جمب معيز يلا.\\n\\n### Response:',\n",
       " '### Instruction: The following is a sentence in Egyptain_25 Arabic dialect. Please translate it to Modern Standard Arabic (MSA).\\n\\n### Input:\\nانت أكيد مجنون، اسمع يا أدهم أنا جيت أنصحك أول ما شوفت الخبر منشور في الجريدة.\\n\\n### Response:',\n",
       " '### Instruction: The following is a sentence in Egyptain_71 Arabic dialect. Please translate it to Modern Standard Arabic (MSA).\\n\\n### Input:\\nليه يا باشا هو اللي أنا شوفته في القصر ده كان سراب و لا ايه؟ اذا كان سيادتك بكل هيلمانك روحت لغاية عنده في القصر و مش عايزني أنا أقلق؟ \\n\\n### Response:',\n",
       " '### Instruction: The following is a sentence in Egyptain_459 Arabic dialect. Please translate it to Modern Standard Arabic (MSA).\\n\\n### Input:\\nأيوه! لو بلغنا البوليس هيجوا يقبض عليه، و هنطلع من المولد بلا حمص!\\n\\n### Response:',\n",
       " '### Instruction: The following is a sentence in Egyptain_567 Arabic dialect. Please translate it to Modern Standard Arabic (MSA).\\n\\n### Input:\\nولا حظي مره بان وطلعلي في اللبان انا قولت الدنيا ضحكت والحظ اوانه حان اترايه ياناس منابي عريان نايم جعان مش لاقي لقمه ياكلها ويبندغ في اللبان، وانت\\n\\n### Response:',\n",
       " '### Instruction: The following is a sentence in Egyptain_397 Arabic dialect. Please translate it to Modern Standard Arabic (MSA).\\n\\n### Input:\\nعموماً أنا لازم أتحرك بدري عشان عندي مواعيد في الوزارة بعد الظهر.\\n\\n### Response:',\n",
       " '### Instruction: The following is a sentence in Egyptain_20 Arabic dialect. Please translate it to Modern Standard Arabic (MSA).\\n\\n### Input:\\nيادي الفال اللي مش زي بعضه روح يا سيدي ربنا يكرم أصلك.\\n\\n### Response:',\n",
       " '### Instruction: The following is a sentence in Egyptain_531 Arabic dialect. Please translate it to Modern Standard Arabic (MSA).\\n\\n### Input:\\nهما دول بقى اللي شربوا مشروع الصالحية بس كان مغرز ايه يا بسومه مغرز على كيف كيفك اهم تلاقيهم يا عيني جايين دلوقتي عشان يعوضوا خسارتهم. \\n\\n### Response:',\n",
       " '### Instruction: The following is a sentence in Egyptain_132 Arabic dialect. Please translate it to Modern Standard Arabic (MSA).\\n\\n### Input:\\nبسبوسة باللوز و الجوز و المكسرات و المدغدغات ..انا كريم كريم كرمله كركوكه\\n\\n### Response:',\n",
       " '### Instruction: The following is a sentence in Egyptain_55 Arabic dialect. Please translate it to Modern Standard Arabic (MSA).\\n\\n### Input:\\nعداك العيب يا معلمي، هي بسبوسة عشان لو حد من الملاكمين وقع على الحلبة و لازق بسبوسة تقومه على طول.\\n\\n### Response:',\n",
       " '### Instruction: The following is a sentence in Egyptain_125 Arabic dialect. Please translate it to Modern Standard Arabic (MSA).\\n\\n### Input:\\nالا بالحق يا خالد هي ايه الحركات اللي كنت بتعملها فوق اللي ضحكت بابي قوي كده ما تضحكونا معاكوا؟ \\n\\n### Response:',\n",
       " '### Instruction: The following is a sentence in Egyptain_383 Arabic dialect. Please translate it to Modern Standard Arabic (MSA).\\n\\n### Input:\\nجبتوا الولد ليه أنا مش قولت نوال بس حرام ولد أمور زي ده يشوف اللي هيحصل. \\n\\n### Response:',\n",
       " '### Instruction: The following is a sentence in Egyptain_269 Arabic dialect. Please translate it to Modern Standard Arabic (MSA).\\n\\n### Input:\\nعمر سعادتك شوفت عهدة تدخل مخزن لا على صادر و لا علي وارد؟ \\n\\n### Response:',\n",
       " '### Instruction: The following is a sentence in Egyptain_315 Arabic dialect. Please translate it to Modern Standard Arabic (MSA).\\n\\n### Input:\\nيلاّ يا كفته بسرعة أنا عايز مراية و عايز كرسي و حاجات من دي عشان المكياج بتاع المدام و ناس بتفهم خلي بالك. \\n\\n### Response:',\n",
       " '### Instruction: The following is a sentence in Egyptain_255 Arabic dialect. Please translate it to Modern Standard Arabic (MSA).\\n\\n### Input:\\nهي الدماغ شغالة اه مية مية بس مركز قوي و حياتك عيب يا رفقي ده أنا فوزي الدالي تحب نتكلم في عربيتك و لا عربيتي و لا في الحديقة؟\\n\\n### Response:',\n",
       " '### Instruction: The following is a sentence in Egyptain_40 Arabic dialect. Please translate it to Modern Standard Arabic (MSA).\\n\\n### Input:\\nبالراحة عليه يا فوزي مش كده كفاية اللي هو فيه.\\n\\n### Response:',\n",
       " '### Instruction: The following is a sentence in Egyptain_252 Arabic dialect. Please translate it to Modern Standard Arabic (MSA).\\n\\n### Input:\\nحاولنا نلم خالد من غير ما نقولك عشان انت تركز في الأهم ايوا ، سعد انت نسيت اللي حصل لألفت مع دكتور هنداوي و غيره و غيره!\\n\\n### Response:',\n",
       " '### Instruction: The following is a sentence in Egyptain_382 Arabic dialect. Please translate it to Modern Standard Arabic (MSA).\\n\\n### Input:\\nلانه لاقى أوضة مؤنس مليانه من الأرض للسقف بصور مدام سعاد.\\n\\n### Response:',\n",
       " '### Instruction: The following is a sentence in Egyptain_127 Arabic dialect. Please translate it to Modern Standard Arabic (MSA).\\n\\n### Input:\\nلا مشكر مش عايز أشرب حاجة، أنا مش جاي أضايف، أنا جاي أعرف ايه اللي بيحصل؟\\n\\n### Response:',\n",
       " '### Instruction: The following is a sentence in Egyptain_82 Arabic dialect. Please translate it to Modern Standard Arabic (MSA).\\n\\n### Input:\\nمعلش، إنتي أول مره تنكسري فيها؟ معلش، إن شاء الله كده هيفوقوا. إلا المهم قوليلي، في حد عجبك فيهم؟\\n\\n### Response:',\n",
       " '### Instruction: The following is a sentence in Egyptain_322 Arabic dialect. Please translate it to Modern Standard Arabic (MSA).\\n\\n### Input:\\nايوا حنبتدي التقطيم بقى في ايه يا فوزي؟ هو انت كل ما تلاقي نفسك فاضي تقول أجيب صفوت عشان أنكد عليه؟ \\n\\n### Response:',\n",
       " '### Instruction: The following is a sentence in Egyptain_404 Arabic dialect. Please translate it to Modern Standard Arabic (MSA).\\n\\n### Input:\\nأنا يا فندم مؤهلاتي بكالريوس تجارة جامعة المحيطات دي جامعة متخصصة لوحدها و مدفعتش مصاريف أخر سنه و أعزب. \\n\\n### Response:',\n",
       " '### Instruction: The following is a sentence in Egyptain_9 Arabic dialect. Please translate it to Modern Standard Arabic (MSA).\\n\\n### Input:\\nو أنا سمحتلك لو لو لاقتني داخل في الغلط ده تلفت نظري. \\n\\n### Response:',\n",
       " '### Instruction: The following is a sentence in Egyptain_37 Arabic dialect. Please translate it to Modern Standard Arabic (MSA).\\n\\n### Input:\\nلو وصلت لأي معلومة عن اللي دبروا الحادثة أو ارتكبوا الجريمة قبل رجالتنا هنا في الوزارة حتبلغنا؟ \\n\\n### Response:',\n",
       " '### Instruction: The following is a sentence in Egyptain_45 Arabic dialect. Please translate it to Modern Standard Arabic (MSA).\\n\\n### Input:\\nقالولي ان عندك كلمتين عايز تقولهم ليا علشان تريح ضميرك، قولت أهلاً و سهلاً ، بس المهم انه ما يكونش كداب عشان ما نضيعش وقت بعض.\\n\\n### Response:',\n",
       " '### Instruction: The following is a sentence in Egyptain_212 Arabic dialect. Please translate it to Modern Standard Arabic (MSA).\\n\\n### Input:\\nيعني أيه؟ هبقى في المستشفى و مش هشوف سعد الدالي؟\\n\\n### Response:',\n",
       " '### Instruction: The following is a sentence in Egyptain_548 Arabic dialect. Please translate it to Modern Standard Arabic (MSA).\\n\\n### Input:\\nطب بس من غير عصيبة، أنا فعلاً قولتلك وقتها وانت اللي قولتلي اتصرف، اتصرفت. \\n\\n### Response:',\n",
       " '### Instruction: The following is a sentence in Emirati_547 Arabic dialect. Please translate it to Modern Standard Arabic (MSA).\\n\\n### Input:\\nما ابا فندق أنا، مخدات لي فيها ريحة، لأن ما أقدر أرقد، إتيني حجة في ينبي، حساسية عندي\\n\\n### Response:',\n",
       " '### Instruction: The following is a sentence in Emirati_348 Arabic dialect. Please translate it to Modern Standard Arabic (MSA).\\n\\n### Input:\\nيا ولدي يا نيشان، شلك في البحر و اهواله و رزق الله عالسيف يا ابوي\\n\\n### Response:',\n",
       " '### Instruction: The following is a sentence in Emirati_303 Arabic dialect. Please translate it to Modern Standard Arabic (MSA).\\n\\n### Input:\\nاشو أخاف، أنا لحد يطريلي الحنيش، أنا أنا أنا ملدوغ يوم إني صغير ، أنا حية لادغتني يوم أنا صغير، كنت أتمشى في السكة و يت حية جي و عفدت علي\\n\\n### Response:',\n",
       " '### Instruction: The following is a sentence in Emirati_597 Arabic dialect. Please translate it to Modern Standard Arabic (MSA).\\n\\n### Input:\\nصار له يومين ما سار الحفيز ما يقدر يقوم يقولون\\n\\n### Response:',\n",
       " '### Instruction: The following is a sentence in Emirati_27 Arabic dialect. Please translate it to Modern Standard Arabic (MSA).\\n\\n### Input:\\nيا جماعة الخير، أنا عندي بشارتين لكم، ودي أبشركم بهن\\n\\n### Response:',\n",
       " '### Instruction: The following is a sentence in Emirati_549 Arabic dialect. Please translate it to Modern Standard Arabic (MSA).\\n\\n### Input:\\nوا ابويه، ساعة ! تبانا نيلس في اللفت ساعة ! سير اتصل في المطافي\\n\\n### Response:',\n",
       " '### Instruction: The following is a sentence in Emirati_196 Arabic dialect. Please translate it to Modern Standard Arabic (MSA).\\n\\n### Input:\\nاعتقد ان هناك عندهم انترنت كافيه، ما يحتاج تشلين اللابتوب وياج\\n\\n### Response:',\n",
       " '### Instruction: The following is a sentence in Emirati_314 Arabic dialect. Please translate it to Modern Standard Arabic (MSA).\\n\\n### Input:\\nالسنة الماضية أنا مودنها و مركبنها قطار الموت، و ما قالت شي، شحقه الحين مب طايعة و مسوية عمرها تخاف\\n\\n### Response:',\n",
       " '### Instruction: The following is a sentence in Emirati_313 Arabic dialect. Please translate it to Modern Standard Arabic (MSA).\\n\\n### Input:\\nمرحبا، هلا، عباس ما شاء الله و عايلته الكريمة، عند بابنا، يا مرحبا يا مرحبا، أهلًا و سهلًا، تفضلوا\\n\\n### Response:',\n",
       " '### Instruction: The following is a sentence in Emirati_567 Arabic dialect. Please translate it to Modern Standard Arabic (MSA).\\n\\n### Input:\\nما عليه، آمر آمر يا مطوعنا ضاعن، ما يهمك قول\\n\\n### Response:',\n",
       " '### Instruction: The following is a sentence in Emirati_11 Arabic dialect. Please translate it to Modern Standard Arabic (MSA).\\n\\n### Input:\\nأنا تقوليلي خسك الله عشان يبت موسيقى؟ ميثة، ميثة، أرجوج تفاهمي ويا يدتج، لا ابوج لا ابو يدتج\\n\\n### Response:',\n",
       " '### Instruction: The following is a sentence in Emirati_105 Arabic dialect. Please translate it to Modern Standard Arabic (MSA).\\n\\n### Input:\\nلا يا امي يزاج الله خير، يزاج الله خير، ما تقصرين، بسير أحط راسي شوي و برقد، و إن شاءالله بطيب\\n\\n### Response:',\n",
       " '### Instruction: The following is a sentence in Emirati_475 Arabic dialect. Please translate it to Modern Standard Arabic (MSA).\\n\\n### Input:\\nشوفي ويهج فالمنظرة، هاه تبغين نسويلج بوتيكس و لا ما نسويلج بوتيكس\\n\\n### Response:',\n",
       " '### Instruction: The following is a sentence in Emirati_30 Arabic dialect. Please translate it to Modern Standard Arabic (MSA).\\n\\n### Input:\\nوالله العظيم ما لينا يلسة في هالبيت أقولش، هذي حلفة، اتصليبهم و الا حرام ترى لا اضربش بهالهمبا على عينش، اتصلي أقولش\\n\\n### Response:',\n",
       " '### Instruction: The following is a sentence in Emirati_158 Arabic dialect. Please translate it to Modern Standard Arabic (MSA).\\n\\n### Input:\\nو الله جنج إنتي بخبرج يالسة تجذبيني،  بروحه أقولج ياني، و قالي جوفي سيري و انشدي أمي و جان هي موافقة أنا ما عندي أي خلاف\\n\\n### Response:',\n",
       " '### Instruction: The following is a sentence in Emirati_171 Arabic dialect. Please translate it to Modern Standard Arabic (MSA).\\n\\n### Input:\\nبعد رد يقول ليش يجذبوني، شقى نصدقك و أنا تحت إيدي شاهد حاضر و شايف\\n\\n### Response:',\n",
       " '### Instruction: The following is a sentence in Emirati_487 Arabic dialect. Please translate it to Modern Standard Arabic (MSA).\\n\\n### Input:\\nإنزين عاد شخانته ألحين العرس يوم ما شي فيه عيالة و لا فيه رزفه و لا اشو هذا الأغاني الي يحطون الناس يا ابويه تخبلوا\\n\\n### Response:',\n",
       " '### Instruction: The following is a sentence in Emirati_62 Arabic dialect. Please translate it to Modern Standard Arabic (MSA).\\n\\n### Input:\\nإنت ما كنت موجود في البلاد و لا تدري شو يصير، أنا و مرزم يا ما ساعدنا ناس\\n\\n### Response:',\n",
       " '### Instruction: The following is a sentence in Emirati_356 Arabic dialect. Please translate it to Modern Standard Arabic (MSA).\\n\\n### Input:\\nلا تشره على أبوك، محد في البلاد راضي إن عيد ياخذ حصة\\n\\n### Response:',\n",
       " '### Instruction: The following is a sentence in Emirati_545 Arabic dialect. Please translate it to Modern Standard Arabic (MSA).\\n\\n### Input:\\n كان المفروض أحضر شهود يوم يستلم مني اللولو، جان ما طبيت بهالمشكلة أبدا، أنتوا تحمون الظالم \\n\\n### Response:',\n",
       " '### Instruction: The following is a sentence in Emirati_235 Arabic dialect. Please translate it to Modern Standard Arabic (MSA).\\n\\n### Input:\\nأرجوج، إسكتي و اصبري خلينا نفهم السالفة، أنا عندي موضوع جوهري، خليني بناقشه ويا الحرمة، أرجوج، يعني إنتي ألحين، عايبنج كلام ولدج ؟\\n\\n### Response:',\n",
       " '### Instruction: The following is a sentence in Emirati_438 Arabic dialect. Please translate it to Modern Standard Arabic (MSA).\\n\\n### Input:\\nيابوك ، اليوم تقدر تسوي خير في الناس، خير جثير، و تدفع عليه دراهم جثيرة، لكن الناس ما يملى عيونها أي شي، مادري، مادري ليش\\n\\n### Response:',\n",
       " '### Instruction: The following is a sentence in Emirati_536 Arabic dialect. Please translate it to Modern Standard Arabic (MSA).\\n\\n### Input:\\nوالله يا عبيدان بتعرس، إذا ياك ولد شو بتسميه؟ بسميه طعان \\n\\n### Response:',\n",
       " '### Instruction: The following is a sentence in Emirati_449 Arabic dialect. Please translate it to Modern Standard Arabic (MSA).\\n\\n### Input:\\nبيي باجر، يا أنا يا هي، و أنا براويها منو بنت غريب، يلا تصبح على خير\\n\\n### Response:',\n",
       " '### Instruction: The following is a sentence in Emirati_250 Arabic dialect. Please translate it to Modern Standard Arabic (MSA).\\n\\n### Input:\\nهلا، هلا باللي لفانا يا هلا به، هلا، هلا بالغزال إلي شايل في بطنه أسد\\n\\n### Response:',\n",
       " '### Instruction: The following is a sentence in Emirati_103 Arabic dialect. Please translate it to Modern Standard Arabic (MSA).\\n\\n### Input:\\nأوهو يدوه، خلاص فكينا من هالبراقع، قتلج لبسي نقاب، نقاب، ابوي\\n\\n### Response:',\n",
       " '### Instruction: The following is a sentence in Emirati_586 Arabic dialect. Please translate it to Modern Standard Arabic (MSA).\\n\\n### Input:\\nيابوي انتي بلاج سايرة رادة رادة سايرة تراه عورتي راسي\\n\\n### Response:',\n",
       " '### Instruction: The following is a sentence in Emirati_350 Arabic dialect. Please translate it to Modern Standard Arabic (MSA).\\n\\n### Input:\\nيا غريب الله يهداك هذي مب حقي بروحي ترا حق بناتك بعد\\n\\n### Response:',\n",
       " '### Instruction: The following is a sentence in Emirati_178 Arabic dialect. Please translate it to Modern Standard Arabic (MSA).\\n\\n### Input:\\nبخير الحمد لله، خير يا هلال ؟ يقولون تبوني إنتو\\n\\n### Response:',\n",
       " '### Instruction: The following is a sentence in Emirati_246 Arabic dialect. Please translate it to Modern Standard Arabic (MSA).\\n\\n### Input:\\nما قلت لك يا أخ زيد إن المال الحلال ما يضيع؟\\n\\n### Response:',\n",
       " '### Instruction: The following is a sentence in Emirati_223 Arabic dialect. Please translate it to Modern Standard Arabic (MSA).\\n\\n### Input:\\nوش تقصد يا راجح، يعني أخوي خلاص، اندفن تحت التراب راح؟\\n\\n### Response:',\n",
       " '### Instruction: The following is a sentence in Emirati_172 Arabic dialect. Please translate it to Modern Standard Arabic (MSA).\\n\\n### Input:\\nوابوك يالأبو حلاق يديد فالبلاد؟ هه ياسمينا، ياسمينا، يود يود\\n\\n### Response:',\n",
       " '### Instruction: The following is a sentence in Emirati_364 Arabic dialect. Please translate it to Modern Standard Arabic (MSA).\\n\\n### Input:\\nوين وين أنا أدرسهم يا مطوع، حد يدرس هذيله و إنت موجود في البلاد؟\\n\\n### Response:',\n",
       " '### Instruction: The following is a sentence in Emirati_330 Arabic dialect. Please translate it to Modern Standard Arabic (MSA).\\n\\n### Input:\\nإيه اندوك غريب، لا يا أبويه مب سايرة عندهم و لا شيات، على قولتك سهيل و عبيد هم الي يون عندي هني\\n\\n### Response:',\n",
       " '### Instruction: The following is a sentence in Emirati_423 Arabic dialect. Please translate it to Modern Standard Arabic (MSA).\\n\\n### Input:\\nوحليلها أمها تعبانة بعد، أبوي غريب، البنية أظني فيها غازات قوم إيبلها ماي غريب\\n\\n### Response:',\n",
       " '### Instruction: The following is a sentence in Emirati_261 Arabic dialect. Please translate it to Modern Standard Arabic (MSA).\\n\\n### Input:\\nيا اخوي ما سوينا شي، لا دق، لا رقص، لا غنة، لا مسجل و لا تلفزيون، مبندين كل شي، ها تسمع بروحك تبغي تدخل تفضل\\n\\n### Response:',\n",
       " '### Instruction: The following is a sentence in Emirati_118 Arabic dialect. Please translate it to Modern Standard Arabic (MSA).\\n\\n### Input:\\nزين زين يوم يشغلون المواطنين في البنوك، عشان يساعدوني أنا و أمثالي\\n\\n### Response:',\n",
       " '### Instruction: The following is a sentence in Emirati_538 Arabic dialect. Please translate it to Modern Standard Arabic (MSA).\\n\\n### Input:\\nبس هي ما تخبر حد، عندها أربعين ألف سهم إتصالات\\n\\n### Response:',\n",
       " '### Instruction: The following is a sentence in Emirati_268 Arabic dialect. Please translate it to Modern Standard Arabic (MSA).\\n\\n### Input:\\nآمنة امي، سيري هاتيلي في الملة تراب، البلغم زايد عليه\\n\\n### Response:',\n",
       " '### Instruction: The following is a sentence in Emirati_336 Arabic dialect. Please translate it to Modern Standard Arabic (MSA).\\n\\n### Input:\\nيوم إلا هذا الذوق، مب عايبنكم، شحقه ما تسيرين انتي و ريلج تشترون حق بنتكم، ليش تدخلوني أنا بمشاكلكم و بلاويكم، دريول أبوج أنا ؟، هاتي هاتي\\n\\n### Response:',\n",
       " '### Instruction: The following is a sentence in Emirati_243 Arabic dialect. Please translate it to Modern Standard Arabic (MSA).\\n\\n### Input:\\nوابويه، جان بق البيت علينا ألحينه و احترقنا، عافانا الله يا هالخدية الحرمة دومها خدية\\n\\n### Response:',\n",
       " '### Instruction: The following is a sentence in Emirati_157 Arabic dialect. Please translate it to Modern Standard Arabic (MSA).\\n\\n### Input:\\nأظن إن القيادة بتطلع منك الجواب، راجح عطاك ليونة أزيد عن اللازم، إخذه يا راجح\\n\\n### Response:',\n",
       " '### Instruction: The following is a sentence in Emirati_479 Arabic dialect. Please translate it to Modern Standard Arabic (MSA).\\n\\n### Input:\\nأنا وين عندي حشرة ؟ ! إنت رطين أنا أسمع رطين ما ادري، عندكم ناس ضيوف شي\\n\\n### Response:',\n",
       " '### Instruction: The following is a sentence in Emirati_121 Arabic dialect. Please translate it to Modern Standard Arabic (MSA).\\n\\n### Input:\\nانت إيه، كل عيوز تشوفها تقول كيه أمه ويش؟ هذي يدة حرمته ضبابة\\n\\n### Response:',\n",
       " '### Instruction: The following is a sentence in Emirati_439 Arabic dialect. Please translate it to Modern Standard Arabic (MSA).\\n\\n### Input:\\nيدوه، العلم تطور الحينه، مب شرات قبل، يشوفون الياهل في الكيمرا، لا تسيرين تزيغينها برمسة قبل\\n\\n### Response:',\n",
       " '### Instruction: The following is a sentence in Emirati_49 Arabic dialect. Please translate it to Modern Standard Arabic (MSA).\\n\\n### Input:\\nصدق أمايه، إنتو شحقه رديتوا، المفروض أحين تكونون داخل خن الطيارة، أجوفكم رديتوا\\n\\n### Response:',\n",
       " '### Instruction: The following is a sentence in Emirati_289 Arabic dialect. Please translate it to Modern Standard Arabic (MSA).\\n\\n### Input:\\nيعني أنا الليلة بس يالس أشتغل عندكم و عند هاي الصغيروني\\n\\n### Response:',\n",
       " '### Instruction: The following is a sentence in Emirati_73 Arabic dialect. Please translate it to Modern Standard Arabic (MSA).\\n\\n### Input:\\nمصختها تراك يا عيد مصختها، اسمعني، انته أكبر مشكلة في البلاد، الزم حدودك من فضلك\\n\\n### Response:',\n",
       " '### Instruction: The following is a sentence in Emirati_361 Arabic dialect. Please translate it to Modern Standard Arabic (MSA).\\n\\n### Input:\\nغريب، هذا غريب نسيبنا الي ماخذ إختنا ميثا، ما قمت تشوف شو ؟\\n\\n### Response:',\n",
       " '### Instruction: The following is a sentence in Emirati_385 Arabic dialect. Please translate it to Modern Standard Arabic (MSA).\\n\\n### Input:\\nاسمعني زين ما زين، ناس تيمع بيزات، تيمع طوابع، تيمع ذهب\\n\\n### Response:',\n",
       " '### Instruction: The following is a sentence in Emirati_259 Arabic dialect. Please translate it to Modern Standard Arabic (MSA).\\n\\n### Input:\\nإن شاء الله يمعة خير و بركة إن شاء الله\\n\\n### Response:',\n",
       " '### Instruction: The following is a sentence in Emirati_512 Arabic dialect. Please translate it to Modern Standard Arabic (MSA).\\n\\n### Input:\\nإذا إنتي تجوفينها هذي غلطة صغيرة، أنا أشوفها غلطة عودة\\n\\n### Response:',\n",
       " '### Instruction: The following is a sentence in Emirati_328 Arabic dialect. Please translate it to Modern Standard Arabic (MSA).\\n\\n### Input:\\nإنتي ما تستحين على ويهج، إنتي ما تستحين على ويهج؟ ما يخصج تسئلين وين نسير و نيي، مالج شغل تسئلين، إلبسي عباتج جدامي أشوف يلا، يلا بسرعة\\n\\n### Response:',\n",
       " '### Instruction: The following is a sentence in Emirati_331 Arabic dialect. Please translate it to Modern Standard Arabic (MSA).\\n\\n### Input:\\nالشرهة مب عليك، إنت ما شفتني و أنا يالسة أحاول أشوف حد يشتري البيانو في العمارة، واحد منهم تعرف شو قالي ؟\\n\\n### Response:',\n",
       " '### Instruction: The following is a sentence in Emirati_262 Arabic dialect. Please translate it to Modern Standard Arabic (MSA).\\n\\n### Input:\\nالمشكلة يا عمي، إن راجح مب طايع يصدق إن نايف كان ويايه أنا ويا مفتاح عالسيف يوم انجتل عيد\\n\\n### Response:',\n",
       " '### Instruction: The following is a sentence in Emirati_483 Arabic dialect. Please translate it to Modern Standard Arabic (MSA).\\n\\n### Input:\\nو الله، و الله يا عمي ها، نذرا علي ها، إذا عطيتني المتوه، لمدة شهر شهر كامل بعطيك ماي بلاش، و لا ليش شهر، سنة كاملة يا عمي\\n\\n### Response:',\n",
       " '### Instruction: The following is a sentence in Emirati_34 Arabic dialect. Please translate it to Modern Standard Arabic (MSA).\\n\\n### Input:\\nاشو انتقاد و إيجابية و أمر واقع شو هالكلام الكبير هذا وين، شفهمها في هالسوالف، قوليلها إنتي ما يخصج و خلاص  \\n\\n### Response:',\n",
       " '### Instruction: The following is a sentence in Emirati_65 Arabic dialect. Please translate it to Modern Standard Arabic (MSA).\\n\\n### Input:\\nأنا يا بنيتيه، حيث إنه ريولي عورتني من كثر اليلسة\\n\\n### Response:',\n",
       " '### Instruction: The following is a sentence in Emirati_421 Arabic dialect. Please translate it to Modern Standard Arabic (MSA).\\n\\n### Input:\\nشحقه طبيب ؟ شحقه طبيب البنت فيها غازات ما يحتاج طبيب !\\n\\n### Response:',\n",
       " '### Instruction: The following is a sentence in Emirati_523 Arabic dialect. Please translate it to Modern Standard Arabic (MSA).\\n\\n### Input:\\nهذا و إنت موظف و درجتك أربعة اثنين، و مسوي هالحشرة كلها، بخبرك لو مدير شو بتسوي ؟ سير سير و فكنا من لغوتك، اجتماع و اجتماع، تقول اجتماع مجلس الأمن \\n\\n### Response:',\n",
       " '### Instruction: The following is a sentence in Emirati_471 Arabic dialect. Please translate it to Modern Standard Arabic (MSA).\\n\\n### Input:\\nأنا ما قلتلكم ودوها عندكم يلسوها هناك عشرين يوم، شحقه رادين بعد يومين شحقه ؟\\n\\n### Response:',\n",
       " '### Instruction: The following is a sentence in Emirati_280 Arabic dialect. Please translate it to Modern Standard Arabic (MSA).\\n\\n### Input:\\nخلي البنت يابوي خلي البنت على راحتها خله تجوف شو شغلها شتبين بها، خليها مسكينة \\n\\n### Response:',\n",
       " '### Instruction: The following is a sentence in Emirati_189 Arabic dialect. Please translate it to Modern Standard Arabic (MSA).\\n\\n### Input:\\nأبوي، أنا صح قلت له أبغي الفستان فيه الكسرات هذي، بس ما قلت هالوسع، و بعدين رقبته مو سبعة ما ابغي، شو ها راعي الخياط ما يفهم؟\\n\\n### Response:',\n",
       " '### Instruction: The following is a sentence in Emirati_386 Arabic dialect. Please translate it to Modern Standard Arabic (MSA).\\n\\n### Input:\\nأشوف عيونج نطت برا، وين إلي تقول دراستي و الشهادة ؟\\n\\n### Response:',\n",
       " '### Instruction: The following is a sentence in Emirati_145 Arabic dialect. Please translate it to Modern Standard Arabic (MSA).\\n\\n### Input:\\nيا عبيدان، يا عبيدان أنا و أنت مسؤولين عن غلطات الجماعة، و شو بنقولهم القيادة إذا سئلونا أنا محرج\\n\\n### Response:',\n",
       " '### Instruction: The following is a sentence in Emirati_248 Arabic dialect. Please translate it to Modern Standard Arabic (MSA).\\n\\n### Input:\\nهذا زين يسويلك زيادة دم في القلب، و ينشطلك القلب يحركه تحريك هيه\\n\\n### Response:',\n",
       " '### Instruction: The following is a sentence in Emirati_56 Arabic dialect. Please translate it to Modern Standard Arabic (MSA).\\n\\n### Input:\\nو قالوا إن حارب هو آخر واحد خذ السجين، و بعدها ما شفنا السجين\\n\\n### Response:',\n",
       " '### Instruction: The following is a sentence in Emirati_311 Arabic dialect. Please translate it to Modern Standard Arabic (MSA).\\n\\n### Input:\\nأنا أعرف و الجماعة كلهم الحاضرين يعرفون إن بومحمد ما سرق منه شي\\n\\n### Response:',\n",
       " '### Instruction: The following is a sentence in Emirati_176 Arabic dialect. Please translate it to Modern Standard Arabic (MSA).\\n\\n### Input:\\nهذا ولد ناس و ولد عرب، أنا روحي تخبرت عنه، و قالوا لي إنه ريال و محترم و رزين بعد\\n\\n### Response:',\n",
       " '### Instruction: The following is a sentence in Emirati_340 Arabic dialect. Please translate it to Modern Standard Arabic (MSA).\\n\\n### Input:\\nالعيايز اخترعوا هاي السالفة، علشان الصغارية، يخوفونهم، يكون ما يطلعون الظهر، القايلة لا، ما يطلعون\\n\\n### Response:',\n",
       " '### Instruction: The following is a sentence in Emirati_113 Arabic dialect. Please translate it to Modern Standard Arabic (MSA).\\n\\n### Input:\\nعاد الحجاج، قاله يا يا عجوز، انته ألحينه بتنتظر لين ما تاكل هذي الثمرة\\n\\n### Response:',\n",
       " '### Instruction: The following is a sentence in Emirati_324 Arabic dialect. Please translate it to Modern Standard Arabic (MSA).\\n\\n### Input:\\nخله يولي، هذا كله مغربلنا و لا مبهدلنا، ما يشبع، و بعدين ليش خايفين ؟ الي حضر البيعة المطوع ضاعن\\n\\n### Response:',\n",
       " '### Instruction: The following is a sentence in Emirati_391 Arabic dialect. Please translate it to Modern Standard Arabic (MSA).\\n\\n### Input:\\nاحنا جي ولا جي الليلة بنبات برا، شرايك الليلة نبات فاتلانتس، و باجر من الصبح نسير الفجيرة\\n\\n### Response:',\n",
       " '### Instruction: The following is a sentence in Emirati_175 Arabic dialect. Please translate it to Modern Standard Arabic (MSA).\\n\\n### Input:\\nعاد قلت يدو العالم ما شاء الله ههه يايبيلج هالهدايا و يايبيلج هاي الكراتين\\n\\n### Response:',\n",
       " '### Instruction: The following is a sentence in Emirati_299 Arabic dialect. Please translate it to Modern Standard Arabic (MSA).\\n\\n### Input:\\nما عليه سامحيني، سامحيني يا ميثا سامحيني، إنتي أكثر وحدة تعرفين الظروف إلي أنا أمر فيها، ريال، راعي حلال، ولد عز، عايش بنعمة و خير، مرة وحدة أرهن بيتي و مزرعتي و أرضي و كل حلالي، و الأسهم تدق دقة وحدة، و كل هالامور هذي تروح عني و أسكن في هالشقة هذي أنا و عيالي، صعبة صعبة، لا و أنا بعد استعيلت و سرت\\n\\n### Response:',\n",
       " '### Instruction: The following is a sentence in Emirati_527 Arabic dialect. Please translate it to Modern Standard Arabic (MSA).\\n\\n### Input:\\nسمعيتها ؟ سمعتيها كيف تتكلم و شقايل تسوي ؟ أحين بخبرج هذي المفروض تتصلين بأهلها، ولي أمرها يي، و لا تراها ما بترد الصف و هي لسانها أطول منها\\n\\n### Response:',\n",
       " '### Instruction: The following is a sentence in Emirati_329 Arabic dialect. Please translate it to Modern Standard Arabic (MSA).\\n\\n### Input:\\nأما أنا ريال ولد عز، أنا راعي كرامة، أنا ريال شايف خير، عندي أسهم لو إنهن داقة لكن عندي أسهم، مب أنا ياي محتاج حق كراتينك معجون طمام ما ادري صابون فودر، يلا تصبح على خير\\n\\n### Response:',\n",
       " '### Instruction: The following is a sentence in Emirati_382 Arabic dialect. Please translate it to Modern Standard Arabic (MSA).\\n\\n### Input:\\nعظم الله أجرج يا بنتي ادخلي داخل ادخلي داخل وقولي لا حول ولا قوة إلا بالله\\n\\n### Response:',\n",
       " '### Instruction: The following is a sentence in Emirati_170 Arabic dialect. Please translate it to Modern Standard Arabic (MSA).\\n\\n### Input:\\nأنا بعت بنتي ؟ أنا بعطيها حق ريال محترم يصونها و يقدرها\\n\\n### Response:',\n",
       " '### Instruction: The following is a sentence in Emirati_20 Arabic dialect. Please translate it to Modern Standard Arabic (MSA).\\n\\n### Input:\\nو أنا عاد ها سايرة و هذا بعد حلول عطه غولي\\n\\n### Response:',\n",
       " '### Instruction: The following is a sentence in Emirati_425 Arabic dialect. Please translate it to Modern Standard Arabic (MSA).\\n\\n### Input:\\nأدري و الله، و الله أدري، تصدق يا خوي، أنا ألحينه، ريحيتني أنا أحينه بسير دايركت حق الحلاق، أربع ساعات وفرت علي، بسير الحلاق ألحين  \\n\\n### Response:',\n",
       " '### Instruction: The following is a sentence in Emirati_194 Arabic dialect. Please translate it to Modern Standard Arabic (MSA).\\n\\n### Input:\\nبارك الله فيك يا ولدي بارك الله فيك يا ولدي \\n\\n### Response:',\n",
       " '### Instruction: The following is a sentence in Emirati_97 Arabic dialect. Please translate it to Modern Standard Arabic (MSA).\\n\\n### Input:\\nمتى بس أفتك من هالشقة هذي، متى بتخلص هالفلا، عنبو أربعة راقدين في حجرة\\n\\n### Response:',\n",
       " '### Instruction: The following is a sentence in Emirati_40 Arabic dialect. Please translate it to Modern Standard Arabic (MSA).\\n\\n### Input:\\nشعنه عاده كلام فاضي ؟ في أم ما تتمنى الخير حق بنتها ؟\\n\\n### Response:',\n",
       " '### Instruction: The following is a sentence in Emirati_18 Arabic dialect. Please translate it to Modern Standard Arabic (MSA).\\n\\n### Input:\\nإذا عندنا حد مريض كلنا نوقف وياه لين الله يشافيه\\n\\n### Response:',\n",
       " '### Instruction: The following is a sentence in Emirati_286 Arabic dialect. Please translate it to Modern Standard Arabic (MSA).\\n\\n### Input:\\nغريب، الشقق ما يستوي فيها شي، كل شي فيها يفوح\\n\\n### Response:',\n",
       " '### Instruction: The following is a sentence in Emirati_126 Arabic dialect. Please translate it to Modern Standard Arabic (MSA).\\n\\n### Input:\\nلا لا لا، جذي أنا بكبر الموضوع يا جماعة أنا بكبر الموضوع\\n\\n### Response:',\n",
       " '### Instruction: The following is a sentence in Emirati_249 Arabic dialect. Please translate it to Modern Standard Arabic (MSA).\\n\\n### Input:\\nأخذ الوقت اللي يكفيك يا راجح، المهمم تمسك لنا القاتل، و أنا ما راح أسامحه، يلا يا جماعة شننطر\\n\\n### Response:',\n",
       " '### Instruction: The following is a sentence in Emirati_288 Arabic dialect. Please translate it to Modern Standard Arabic (MSA).\\n\\n### Input:\\nإن حريم الحين كلهن اختربن، ما منهن فايدة، مب مثل حريم قبل، أنا أحيد أمي أول تنش الفير، و ما ترقد إلا على يوم الثاني عند أذان الفير\\n\\n### Response:',\n",
       " '### Instruction: The following is a sentence in Emirati_363 Arabic dialect. Please translate it to Modern Standard Arabic (MSA).\\n\\n### Input:\\nأنا ما ابغي أعودها على على الراحة هيه، أباها تطلع من هذيل البنات إلي هب ريح، ما اباها تطلع من هالرخويات بارك الله فيش\\n\\n### Response:',\n",
       " '### Instruction: The following is a sentence in Emirati_474 Arabic dialect. Please translate it to Modern Standard Arabic (MSA).\\n\\n### Input:\\nما شاء الله، إنتو شو عندكم، عرس و لا هو عيد ميلاد ؟\\n\\n### Response:',\n",
       " '### Instruction: The following is a sentence in Emirati_520 Arabic dialect. Please translate it to Modern Standard Arabic (MSA).\\n\\n### Input:\\nأول سبب إني أنا ممكن أخدم القضية من هني أكثر من القيادة\\n\\n### Response:',\n",
       " '### Instruction: The following is a sentence in Emirati_481 Arabic dialect. Please translate it to Modern Standard Arabic (MSA).\\n\\n### Input:\\nتهم، ما فيه شكر إشو جذي أخ لا مب غاوي \\n\\n### Response:',\n",
       " '### Instruction: The following is a sentence in Emirati_506 Arabic dialect. Please translate it to Modern Standard Arabic (MSA).\\n\\n### Input:\\nو أنا اللي كنت أظن انكم مستانسين بوجودي عندكم ترضون ترضون أقعد فالشقة بروحي و أنا في هالحالة لا حنيس ولا ونيس\\n\\n### Response:',\n",
       " '### Instruction: The following is a sentence in Emirati_81 Arabic dialect. Please translate it to Modern Standard Arabic (MSA).\\n\\n### Input:\\nاي انتي ، شحقه تطريني ؟ انا شو يخصني في دانكم هذا\\n\\n### Response:',\n",
       " '### Instruction: The following is a sentence in Emirati_15 Arabic dialect. Please translate it to Modern Standard Arabic (MSA).\\n\\n### Input:\\nوشو اللي يثبت انه مصطفى ياب السجين حق بوأحمد الخياط؟\\n\\n### Response:',\n",
       " '### Instruction: The following is a sentence in Emirati_305 Arabic dialect. Please translate it to Modern Standard Arabic (MSA).\\n\\n### Input:\\nيعني ألحين إنتي ما تعرفين شي عن سالفة الرضاعة ؟\\n\\n### Response:',\n",
       " '### Instruction: The following is a sentence in Emirati_458 Arabic dialect. Please translate it to Modern Standard Arabic (MSA).\\n\\n### Input:\\nاسمع يا ربيعة ، خلك من هالسوالف هاي كلها ، ابغاك تاخذ ثلاثة أربعة صناديج مثلك جذه رجال وتمرون على عبيد وين ، المركز\\n\\n### Response:',\n",
       " '### Instruction: The following is a sentence in Emirati_417 Arabic dialect. Please translate it to Modern Standard Arabic (MSA).\\n\\n### Input:\\nأبوي، تعرف، أنا و يمعة وايد وايد وايد انشغلنا في رمضان، و ما صار عندنا وقت نروح السوق و نشتري حق فاطمة، أبوي\\n\\n### Response:',\n",
       " '### Instruction: The following is a sentence in Emirati_284 Arabic dialect. Please translate it to Modern Standard Arabic (MSA).\\n\\n### Input:\\nبعدين إنت تقولي أنا دربك خضر ؟ هاي آخرتها ؟ !\\n\\n### Response:',\n",
       " '### Instruction: The following is a sentence in Jordanian_330 Arabic dialect. Please translate it to Modern Standard Arabic (MSA).\\n\\n### Input:\\nهذا هادي و الهامل اللي معه اللي اسمه صبري بشتغلوا مع بعض شغل في كراج، أما شو شغل الله لا يورجيكِ! غشاشين\\n\\n### Response:',\n",
       " '### Instruction: The following is a sentence in Jordanian_476 Arabic dialect. Please translate it to Modern Standard Arabic (MSA).\\n\\n### Input:\\nطيب ليش ما بيحكولنا إحنا مش أهل يعني؟! و لا نسيت يا حبيبي شو عملت عشان خاطرها! نسيت قديش ضحيت أنت على شان ما تحسسها إنها بحاجة لإشي!\\n\\n### Response:',\n",
       " '### Instruction: The following is a sentence in Jordanian_466 Arabic dialect. Please translate it to Modern Standard Arabic (MSA).\\n\\n### Input:\\nاتفقنا هيك مع شركة على شغل و أنا يعني بدي أسافر يومين على العقبة بس يومين و بجوز اكثر ما بعرف بعدين أنا السبب في هاذي الصفقة\\n\\n### Response:',\n",
       " '### Instruction: The following is a sentence in Jordanian_174 Arabic dialect. Please translate it to Modern Standard Arabic (MSA).\\n\\n### Input:\\nطمنيني كيف نفسية عمو فرج؟ خصوصي بعد ما غاب يزن و ناجح عنه\\n\\n### Response:',\n",
       " '### Instruction: The following is a sentence in Jordanian_498 Arabic dialect. Please translate it to Modern Standard Arabic (MSA).\\n\\n### Input:\\nاصحى يا جودت و خلينا في اللي إحنا فيه، لا تخلي الرومنسية تنسيك الأهم\\n\\n### Response:',\n",
       " '### Instruction: The following is a sentence in Jordanian_324 Arabic dialect. Please translate it to Modern Standard Arabic (MSA).\\n\\n### Input:\\nانا جاي اقول اللي شفته ولمسته وحسيته من هالرجل الطيب\\n\\n### Response:',\n",
       " '### Instruction: The following is a sentence in Jordanian_482 Arabic dialect. Please translate it to Modern Standard Arabic (MSA).\\n\\n### Input:\\nأبدًا، بكرة الصبح طلبيتك بتكون جاهزة، أنا رايح أوصل لك إياها بنفسي، إحنا بهمنا رضاك، و لا يهمك مع ألف سلامة\\n\\n### Response:',\n",
       " '### Instruction: The following is a sentence in Jordanian_556 Arabic dialect. Please translate it to Modern Standard Arabic (MSA).\\n\\n### Input:\\nاسمع أنت و إياه، بتشيلوا الغبرة اللي عالطاولة هاي مسحوها كويس، و بعدين كل الكاسات اللي لميتوهم هذول عالمجلى بسرعة\\n\\n### Response:',\n",
       " '### Instruction: The following is a sentence in Jordanian_82 Arabic dialect. Please translate it to Modern Standard Arabic (MSA).\\n\\n### Input:\\nيابا يعني واضح من كلامه إنه مش هي اللي شجعته على الغلط\\n\\n### Response:',\n",
       " '### Instruction: The following is a sentence in Jordanian_80 Arabic dialect. Please translate it to Modern Standard Arabic (MSA).\\n\\n### Input:\\nناهده، الله يرضى عليكي أنا كنت واضح و صريح معك أرجوكي يا حبيبتي خلينا متفاهمين أنا ما كذبت عليكي بإي اشي\\n\\n### Response:',\n",
       " '### Instruction: The following is a sentence in Jordanian_502 Arabic dialect. Please translate it to Modern Standard Arabic (MSA).\\n\\n### Input:\\nعارف، يا بني آدم، امسك زي الناس علقها يلا امسك\\n\\n### Response:',\n",
       " '### Instruction: The following is a sentence in Jordanian_504 Arabic dialect. Please translate it to Modern Standard Arabic (MSA).\\n\\n### Input:\\nو البريكات اللي بتزيد عيارها ؟ و سلك البطارية اللي بتضعفه ؟ و صمونة مش عارف شو اللي بتخليها تنقط زيت و تحرق السيارة \\n\\n### Response:',\n",
       " '### Instruction: The following is a sentence in Jordanian_478 Arabic dialect. Please translate it to Modern Standard Arabic (MSA).\\n\\n### Input:\\nأشتري لك سيارة؟ ما شاء الله حولك و حوليك ليش بدك السيارة؟\\n\\n### Response:',\n",
       " '### Instruction: The following is a sentence in Jordanian_341 Arabic dialect. Please translate it to Modern Standard Arabic (MSA).\\n\\n### Input:\\nاتركوني عليها، يا دوب تتحمل مني مقلب واحد و بس\\n\\n### Response:',\n",
       " '### Instruction: The following is a sentence in Jordanian_153 Arabic dialect. Please translate it to Modern Standard Arabic (MSA).\\n\\n### Input:\\nايش فيها يعني ايش فيها ايش فيها إذا عملك خاطر؟\\n\\n### Response:',\n",
       " '### Instruction: The following is a sentence in Jordanian_425 Arabic dialect. Please translate it to Modern Standard Arabic (MSA).\\n\\n### Input:\\nعن ازنك يا جارتنا هاظا جرس الباب برن مع السلامة، يلا يلا حاضر\\n\\n### Response:',\n",
       " '### Instruction: The following is a sentence in Jordanian_46 Arabic dialect. Please translate it to Modern Standard Arabic (MSA).\\n\\n### Input:\\nعاد كنت قاعد بكتب قصة مأساوية مؤلمة بعدين غيرت رأيي و قررت اكتب قصة كوميدية مضحكة من وحي الواقع\\n\\n### Response:',\n",
       " '### Instruction: The following is a sentence in Jordanian_70 Arabic dialect. Please translate it to Modern Standard Arabic (MSA).\\n\\n### Input:\\nما وقعت في مشكلة إلا و طلعت منها أقوى من أول، و رح أظل طول عمري هيك\\n\\n### Response:',\n",
       " '### Instruction: The following is a sentence in Jordanian_391 Arabic dialect. Please translate it to Modern Standard Arabic (MSA).\\n\\n### Input:\\nعلى مهلك يا أم هاني الموضوع كله موضوع خطبة و يمكن ابطل ما بتعرفي \\n\\n### Response:',\n",
       " '### Instruction: The following is a sentence in Jordanian_500 Arabic dialect. Please translate it to Modern Standard Arabic (MSA).\\n\\n### Input:\\nو صعب ترجع و بكره بتشوف بس هي هي مجنونة هيك تركتهم ايد ورى وايد قدام حتى ذهباتها تركتهم هناك\\n\\n### Response:',\n",
       " '### Instruction: The following is a sentence in Jordanian_99 Arabic dialect. Please translate it to Modern Standard Arabic (MSA).\\n\\n### Input:\\nيعني مشان ما أكذب عليك بقول إني راضية و بتمنى أنجح في حياتي معكوا\\n\\n### Response:',\n",
       " '### Instruction: The following is a sentence in Jordanian_578 Arabic dialect. Please translate it to Modern Standard Arabic (MSA).\\n\\n### Input:\\nو اعتبرنا موافقين، و بالوقت اللي إنت بتحدده بنطلب لك ايد علا، ولا شو رايك يا فرج؟\\n\\n### Response:',\n",
       " '### Instruction: The following is a sentence in Jordanian_113 Arabic dialect. Please translate it to Modern Standard Arabic (MSA).\\n\\n### Input:\\nو كمان أخته و أبوه في السجن، إشي حلو كثير\\n\\n### Response:',\n",
       " '### Instruction: The following is a sentence in Jordanian_371 Arabic dialect. Please translate it to Modern Standard Arabic (MSA).\\n\\n### Input:\\nلعاد مش أحسن من العيشه لحالي؟ بعدين كامل شب مخه نظيف وبسببه قاعد بلعب بالمصاري لعب\\n\\n### Response:',\n",
       " '### Instruction: The following is a sentence in Jordanian_432 Arabic dialect. Please translate it to Modern Standard Arabic (MSA).\\n\\n### Input:\\nبتحاول تخفي حرجك من الانسانه يلي اخذت منك وعد رجال وصدقتك\\n\\n### Response:',\n",
       " '### Instruction: The following is a sentence in Jordanian_88 Arabic dialect. Please translate it to Modern Standard Arabic (MSA).\\n\\n### Input:\\nبتعرفي يانهيل اذا قمتي ان شاءالله بالسلامه واجاني ولد بدي اسميه امل واذا بنت\\n\\n### Response:',\n",
       " '### Instruction: The following is a sentence in Jordanian_430 Arabic dialect. Please translate it to Modern Standard Arabic (MSA).\\n\\n### Input:\\nمدام ممتاز ليش ما تشغل اخوك يزن معك و تعمله هالصنعة\\n\\n### Response:',\n",
       " '### Instruction: The following is a sentence in Jordanian_421 Arabic dialect. Please translate it to Modern Standard Arabic (MSA).\\n\\n### Input:\\nهذا رح يوفر علي المقدمه و يخليني ادخل بالموضوع مباشرةً\\n\\n### Response:',\n",
       " '### Instruction: The following is a sentence in Jordanian_374 Arabic dialect. Please translate it to Modern Standard Arabic (MSA).\\n\\n### Input:\\nوليش مش قادره بس اقولك هلأ بعملك فنجان قهوه وبتحكي على كيف كيفك\\n\\n### Response:',\n",
       " '### Instruction: The following is a sentence in Jordanian_211 Arabic dialect. Please translate it to Modern Standard Arabic (MSA).\\n\\n### Input:\\nالي من حقه يطلب نهيل و ابوي لازم ينفذلها الي بدها اياه\\n\\n### Response:',\n",
       " '### Instruction: The following is a sentence in Jordanian_61 Arabic dialect. Please translate it to Modern Standard Arabic (MSA).\\n\\n### Input:\\nكان يوم حلو كثير كثير ما رح انساه طول حياتي \\n\\n### Response:',\n",
       " '### Instruction: The following is a sentence in Jordanian_511 Arabic dialect. Please translate it to Modern Standard Arabic (MSA).\\n\\n### Input:\\nما بدي أحكي كلام يدايقك، عشان هيك بفضل ما نحكي بهالموضوع\\n\\n### Response:',\n",
       " '### Instruction: The following is a sentence in Jordanian_271 Arabic dialect. Please translate it to Modern Standard Arabic (MSA).\\n\\n### Input:\\nعرفت إنه مرحبا بهالزمن ما حدا بحكيها إلا إذا بده مصلحة \\n\\n### Response:',\n",
       " '### Instruction: The following is a sentence in Jordanian_6 Arabic dialect. Please translate it to Modern Standard Arabic (MSA).\\n\\n### Input:\\nإذا محتاجه الوقت عشان توخذي قرار بنأجل الحكي في هالموضوع\\n\\n### Response:',\n",
       " '### Instruction: The following is a sentence in Jordanian_531 Arabic dialect. Please translate it to Modern Standard Arabic (MSA).\\n\\n### Input:\\nأبو جمال، أنا عندي بريكات جديدة و بنفس سعر السوق هاه إذا ما بدك جيبهم من عند جاري\\n\\n### Response:',\n",
       " '### Instruction: The following is a sentence in Jordanian_56 Arabic dialect. Please translate it to Modern Standard Arabic (MSA).\\n\\n### Input:\\nبابا أنا عمري ما كنت متأكدة من اللي بعمله قد ما أنا متأكدة هلأ\\n\\n### Response:',\n",
       " '### Instruction: The following is a sentence in Jordanian_209 Arabic dialect. Please translate it to Modern Standard Arabic (MSA).\\n\\n### Input:\\nأنت زرعت بيننا نبتة صالحة، و إحنا مش أرض بور يابا إحنا أرض خصبة\\n\\n### Response:',\n",
       " '### Instruction: The following is a sentence in Jordanian_11 Arabic dialect. Please translate it to Modern Standard Arabic (MSA).\\n\\n### Input:\\nيعطيها حقوقها و يحل عنا آه، اصلًا هي و البيبي اللي في بطنها بعيونا بنحطهم\\n\\n### Response:',\n",
       " '### Instruction: The following is a sentence in Jordanian_460 Arabic dialect. Please translate it to Modern Standard Arabic (MSA).\\n\\n### Input:\\nبس ما كان لازم تسكت، أنت رح تجنني، العيلة كلها رح تجنني، يا رجل الي متقدملها غني غني غني فوق ما تتصور غني يعني لو طلبتوا منه لبن العصفور بجيبه\\n\\n### Response:',\n",
       " '### Instruction: The following is a sentence in Jordanian_305 Arabic dialect. Please translate it to Modern Standard Arabic (MSA).\\n\\n### Input:\\nو ليش ما بدها توافق؟ شو اللي ناقصك؟ طيب و ابن حلال مثل ابوك و اخوانك كلهم، يلا عاد روح على شغلك أنا كمان وراي شغل و لازم أشوفه يلا\\n\\n### Response:',\n",
       " '### Instruction: The following is a sentence in Jordanian_258 Arabic dialect. Please translate it to Modern Standard Arabic (MSA).\\n\\n### Input:\\nلكن لما عشت بينهم واعرفتهم، حسيت إني فعلًا بختلف عنهم لكن مش زي ما أنا ما كنت مفكره، بالعكس\\n\\n### Response:',\n",
       " '### Instruction: The following is a sentence in Jordanian_204 Arabic dialect. Please translate it to Modern Standard Arabic (MSA).\\n\\n### Input:\\nطمعانين! الشاطر ينهب، و هو راخي لهم الحبل و ساكت!\\n\\n### Response:',\n",
       " '### Instruction: The following is a sentence in Jordanian_156 Arabic dialect. Please translate it to Modern Standard Arabic (MSA).\\n\\n### Input:\\nفمن الطبيعي إنه هاي الست رضا تحاول تغير من وضعها\\n\\n### Response:',\n",
       " '### Instruction: The following is a sentence in Jordanian_131 Arabic dialect. Please translate it to Modern Standard Arabic (MSA).\\n\\n### Input:\\nيعني هاي صباحية مباركة و يوم مبارك الله يرضى عليكي يابا\\n\\n### Response:',\n",
       " '### Instruction: The following is a sentence in Jordanian_472 Arabic dialect. Please translate it to Modern Standard Arabic (MSA).\\n\\n### Input:\\nمش معقول حسب كلامكوا إنكوا تكسبوا تسعة آلاف دينار في شهر!\\n\\n### Response:',\n",
       " '### Instruction: The following is a sentence in Jordanian_336 Arabic dialect. Please translate it to Modern Standard Arabic (MSA).\\n\\n### Input:\\nإذا بتعزني بجد بترجع على بيتك و من غير اعتراض و هسا\\n\\n### Response:',\n",
       " '### Instruction: The following is a sentence in Jordanian_62 Arabic dialect. Please translate it to Modern Standard Arabic (MSA).\\n\\n### Input:\\nمبدئيًا رح أكتب لك هاظ العلاج مشان يخفف عليها، و رح نشوف شو بصير معانا\\n\\n### Response:',\n",
       " '### Instruction: The following is a sentence in Jordanian_555 Arabic dialect. Please translate it to Modern Standard Arabic (MSA).\\n\\n### Input:\\nشو يا مرة ابوي مش انت صاحبة الفكرة إنه أبوي يبني العمار؟\\n\\n### Response:',\n",
       " '### Instruction: The following is a sentence in Jordanian_364 Arabic dialect. Please translate it to Modern Standard Arabic (MSA).\\n\\n### Input:\\nهي الي وقفت مع أخوي عاصم و حققتله حلمه، هي الي ما بتعصيلك أي أمر يابا، هي الي حبتنا، بتعمل كل اشي مشان رضانا يابا، ليش نحملها ذنوب ما عملتها\\n\\n### Response:',\n",
       " '### Instruction: The following is a sentence in Jordanian_424 Arabic dialect. Please translate it to Modern Standard Arabic (MSA).\\n\\n### Input:\\nاه يا بيك، فهمني هسع كيف صارت الشغلة، مش غلط اني افهم يعني \\n\\n### Response:',\n",
       " '### Instruction: The following is a sentence in Jordanian_225 Arabic dialect. Please translate it to Modern Standard Arabic (MSA).\\n\\n### Input:\\nمش معقول أرباح خمس سنوات ماضية كلها نخسرها بسنه واحده، المفروض كان انشغلها و نزيد نشاطنا فيها\\n\\n### Response:',\n",
       " '### Instruction: The following is a sentence in Jordanian_596 Arabic dialect. Please translate it to Modern Standard Arabic (MSA).\\n\\n### Input:\\nأطفال يعني كل اشي فيهم بقول إنهم مثل الأطفال طبعًا ما عدا عقولهم\\n\\n### Response:',\n",
       " '### Instruction: The following is a sentence in Jordanian_538 Arabic dialect. Please translate it to Modern Standard Arabic (MSA).\\n\\n### Input:\\nخلص فعلا انا مش قادره احكي بهاد الموضوع اكتر من هيك\\n\\n### Response:',\n",
       " '### Instruction: The following is a sentence in Jordanian_464 Arabic dialect. Please translate it to Modern Standard Arabic (MSA).\\n\\n### Input:\\nبدل ما توقفي معي و تفهمي أخوكِ و توعيه بتوقفي ضدي!\\n\\n### Response:',\n",
       " '### Instruction: The following is a sentence in Jordanian_345 Arabic dialect. Please translate it to Modern Standard Arabic (MSA).\\n\\n### Input:\\nمن ضميرك الي جايبنا لورى ما قلنالك يا حبيبي  حطه بتلاجة فكر بولادك بمستقبل ولادك مش معقول هيك\\n\\n### Response:',\n",
       " '### Instruction: The following is a sentence in Jordanian_365 Arabic dialect. Please translate it to Modern Standard Arabic (MSA).\\n\\n### Input:\\nأنت نفسك عارف إنه هاد حكي فاضي ما في من وراه نتيجة مش صحيح\\n\\n### Response:',\n",
       " '### Instruction: The following is a sentence in Jordanian_435 Arabic dialect. Please translate it to Modern Standard Arabic (MSA).\\n\\n### Input:\\nبس هو بقول ما بحب يتغدى غير يكون قدامه بطاطا مقلية\\n\\n### Response:',\n",
       " '### Instruction: The following is a sentence in Jordanian_180 Arabic dialect. Please translate it to Modern Standard Arabic (MSA).\\n\\n### Input:\\nالسيد مرزوق مش عاجبه الشغل، و مش بس هيك صار يرفع صوته علي من أولها\\n\\n### Response:',\n",
       " '### Instruction: The following is a sentence in Jordanian_236 Arabic dialect. Please translate it to Modern Standard Arabic (MSA).\\n\\n### Input:\\n أنا لا يمكن أقعد في البيت دقيقة وحدة بعد اللي صار، خلص! \\n\\n### Response:',\n",
       " '### Instruction: The following is a sentence in Jordanian_428 Arabic dialect. Please translate it to Modern Standard Arabic (MSA).\\n\\n### Input:\\nأنت بدك تعمل من الحبة قبة عشان تحمل المسؤولية لغيرك\\n\\n### Response:',\n",
       " '### Instruction: The following is a sentence in Jordanian_529 Arabic dialect. Please translate it to Modern Standard Arabic (MSA).\\n\\n### Input:\\nإذا الإشي الوحيد اللي شاغل مخك هو مشكلة أختك بقدر\\n\\n### Response:',\n",
       " '### Instruction: The following is a sentence in Jordanian_35 Arabic dialect. Please translate it to Modern Standard Arabic (MSA).\\n\\n### Input:\\nلا يخوي، لا هدول دهباتي، نحيلتي بكل الدنيا ما الي غيرهم\\n\\n### Response:',\n",
       " '### Instruction: The following is a sentence in Jordanian_436 Arabic dialect. Please translate it to Modern Standard Arabic (MSA).\\n\\n### Input:\\nيا بيك يا بيك أنا شو اللي قلته؟ أنا قلتلها ما تقول مبروك \\n\\n### Response:',\n",
       " '### Instruction: The following is a sentence in Jordanian_120 Arabic dialect. Please translate it to Modern Standard Arabic (MSA).\\n\\n### Input:\\nو ليش مستغني عن نص أجرة الشقة! هو جوزها و هو مجبور فيها بده يجيبلها بيت غصبًا عنه!\\n\\n### Response:',\n",
       " '### Instruction: The following is a sentence in Jordanian_257 Arabic dialect. Please translate it to Modern Standard Arabic (MSA).\\n\\n### Input:\\nلا ما هو هلأ وزنك عالي و مهرك عالي، بس تنزلي بروح المهر\\n\\n### Response:',\n",
       " '### Instruction: The following is a sentence in Jordanian_234 Arabic dialect. Please translate it to Modern Standard Arabic (MSA).\\n\\n### Input:\\nآه يا بيك، لازم تدفع لي، لأنه هاظ العمل يا بيك اللي بشتغله عمل إضافي، يعني غير دوامي الرسمي و بطلع لي عليه قروش إضافية\\n\\n### Response:',\n",
       " '### Instruction: The following is a sentence in Jordanian_200 Arabic dialect. Please translate it to Modern Standard Arabic (MSA).\\n\\n### Input:\\nما بدنا اياك تتورط، و افهم من الدكتور ايش اللي بده اياه منك\\n\\n### Response:',\n",
       " '### Instruction: The following is a sentence in Jordanian_302 Arabic dialect. Please translate it to Modern Standard Arabic (MSA).\\n\\n### Input:\\nلا ولا اشي بس اداقرت أنا و جاسر بهدلني قدام العمال وقلي ترك العدة و روح\\n\\n### Response:',\n",
       " '### Instruction: The following is a sentence in Jordanian_332 Arabic dialect. Please translate it to Modern Standard Arabic (MSA).\\n\\n### Input:\\nو بعدين بالنسبة لأتعابي أنا شخصيًا إذا مش حاملين فلوس هسع ولا يهمكوا \\n\\n### Response:',\n",
       " '### Instruction: The following is a sentence in Jordanian_363 Arabic dialect. Please translate it to Modern Standard Arabic (MSA).\\n\\n### Input:\\nكان لازم أول ما عرفتي تخبريني! هذا موضوع ما بنسكت عليه!\\n\\n### Response:',\n",
       " '### Instruction: The following is a sentence in Jordanian_30 Arabic dialect. Please translate it to Modern Standard Arabic (MSA).\\n\\n### Input:\\nو أنا بتمنى إنه يكون الموضوع إيجابي يعني، لأنه شوف يا أستاذ إذا أنا و إياك صار بيننا نسب\\n\\n### Response:',\n",
       " '### Instruction: The following is a sentence in Jordanian_408 Arabic dialect. Please translate it to Modern Standard Arabic (MSA).\\n\\n### Input:\\nيابا بترجاك ما تزعل حالك، بترجاك ما تهتم، يابا اخواني، اخواني ما قدروا يصبروا\\n\\n### Response:',\n",
       " '### Instruction: The following is a sentence in Jordanian_559 Arabic dialect. Please translate it to Modern Standard Arabic (MSA).\\n\\n### Input:\\nوبعدك بتقلي ليش، أنت رح تجنني؟ أنا اكيد واقعه وسط هالهبايل مش عارفه مصلحتهم وين الدنيا مصالح مصالح يا استاذ صالح، الواحد ما بتيجيه الفرصه الا مره وحدة و بس \\n\\n### Response:',\n",
       " '### Instruction: The following is a sentence in Jordanian_269 Arabic dialect. Please translate it to Modern Standard Arabic (MSA).\\n\\n### Input:\\nاستنى يا صالح، اسمع كلام اختك، البيوت بصير فيها كثير و قليل و العاقلين بس همه اللي بصغروا المشاكل مش بكبروها\\n\\n### Response:',\n",
       " '### Instruction: The following is a sentence in Jordanian_572 Arabic dialect. Please translate it to Modern Standard Arabic (MSA).\\n\\n### Input:\\nاسمع، اسمع يا هادي انت دوشتني ترا إذا بتفشل يا ويلك مني\\n\\n### Response:',\n",
       " '### Instruction: The following is a sentence in Jordanian_377 Arabic dialect. Please translate it to Modern Standard Arabic (MSA).\\n\\n### Input:\\nاحنا آسفين لإزعاجك لكن إذا صار عندك إي معلومات يا ريت تخبرينا فيها\\n\\n### Response:',\n",
       " '### Instruction: The following is a sentence in Jordanian_218 Arabic dialect. Please translate it to Modern Standard Arabic (MSA).\\n\\n### Input:\\nهذا الحكي كان زمان يا سيد سمعة، إحنا هلقيت في عصر التطور و التكنولوجيا و الهمبرغر\\n\\n### Response:',\n",
       " '### Instruction: The following is a sentence in Jordanian_253 Arabic dialect. Please translate it to Modern Standard Arabic (MSA).\\n\\n### Input:\\nطيب بلاش تقلي، قوم اقعد مع اخوتك، تفرج على التلفزيون، اعمل اي اشي بس تضلش سارح\\n\\n### Response:',\n",
       " '### Instruction: The following is a sentence in Jordanian_304 Arabic dialect. Please translate it to Modern Standard Arabic (MSA).\\n\\n### Input:\\nبدك وحدة تونس وحدتك و تعزيك و تواسيك؟ وينها؟ ضيعت ولادك و صفيت لحالك ما حدا عندك إلا وحدتك، خسرت كل شي\\n\\n### Response:',\n",
       " '### Instruction: The following is a sentence in Jordanian_595 Arabic dialect. Please translate it to Modern Standard Arabic (MSA).\\n\\n### Input:\\nو الدكتور أكد له أكثر من مرة إنه ما في سبب يمنع لا عندي و لا عنده\\n\\n### Response:',\n",
       " '### Instruction: The following is a sentence in Jordanian_409 Arabic dialect. Please translate it to Modern Standard Arabic (MSA).\\n\\n### Input:\\nاول اشي لازم تبني الارض الي عندك ابنيلك اربع طوابق بثمن شقق وكل ولد بتجوز فيهم بتعطيه شقه هيك يعني بترضي الجميع وبتخليهم قراب منك وبنفس الوقت بتحسسهم إنهم صحاب ملك\\n\\n### Response:',\n",
       " '### Instruction: The following is a sentence in Jordanian_126 Arabic dialect. Please translate it to Modern Standard Arabic (MSA).\\n\\n### Input:\\nلا معلش اشربه انت بتعرف بنشربش من تحت ايدين بعض\\n\\n### Response:',\n",
       " '### Instruction: The following is a sentence in Jordanian_373 Arabic dialect. Please translate it to Modern Standard Arabic (MSA).\\n\\n### Input:\\nيا ولاد ما تعقلوا، إعقلوا، إهدوا، كنوا بلاش تتهاوشوا مع بعض\\n\\n### Response:',\n",
       " '### Instruction: The following is a sentence in Jordanian_162 Arabic dialect. Please translate it to Modern Standard Arabic (MSA).\\n\\n### Input:\\nيعني ما رح يكون عندك مشكله تحط السعر يلي بدك اياه\\n\\n### Response:',\n",
       " '### Instruction: The following is a sentence in Jordanian_27 Arabic dialect. Please translate it to Modern Standard Arabic (MSA).\\n\\n### Input:\\nخلص عمو أنا هلأ رح احطلك أحلى غدا الولاد بياكلوا لحالهم\\n\\n### Response:',\n",
       " '### Instruction: The following is a sentence in Jordanian_593 Arabic dialect. Please translate it to Modern Standard Arabic (MSA).\\n\\n### Input:\\nأنا ما صديته! بس هو ما حاول يعبر لي عن مشاعره، أصلاَ هو ما حكى معي كلمتين مفيدات!\\n\\n### Response:',\n",
       " '### Instruction: The following is a sentence in Jordanian_461 Arabic dialect. Please translate it to Modern Standard Arabic (MSA).\\n\\n### Input:\\nأنت لازم تروح على المستشفى عشان تنظف السموم اللي بجسمك ضروري يا هاني ضروري\\n\\n### Response:',\n",
       " '### Instruction: The following is a sentence in Jordanian_124 Arabic dialect. Please translate it to Modern Standard Arabic (MSA).\\n\\n### Input:\\nانتو بتفكروا شغلة الكراج شغلة بسيطة؟ بتفكرها بسيطة يا هادي؟ يابا الكراج بده مصاريف زيادة و عمال مصاريف  احنا مش ناقصنا\\n\\n### Response:',\n",
       " '### Instruction: The following is a sentence in Jordanian_248 Arabic dialect. Please translate it to Modern Standard Arabic (MSA).\\n\\n### Input:\\nأمجد متل ما بتعرفي ساعد الزلمه كتير و هاد التاني بحاول يردله جميله عشان هيك أنا ما حبيت اكون موجود معهم \\n\\n### Response:',\n",
       " '### Instruction: The following is a sentence in Jordanian_351 Arabic dialect. Please translate it to Modern Standard Arabic (MSA).\\n\\n### Input:\\nانا بفضل انك تهدى يا جودت، و ترجع تفكر في الموضوع وتعيد حساباتك\\n\\n### Response:',\n",
       " '### Instruction: The following is a sentence in Jordanian_21 Arabic dialect. Please translate it to Modern Standard Arabic (MSA).\\n\\n### Input:\\nفعلًا يا جدة مبارح ما نمت مليح و فوق هاد كله السيارة اللي اجيت فيها\\n\\n### Response:',\n",
       " '### Instruction: The following is a sentence in Jordanian_212 Arabic dialect. Please translate it to Modern Standard Arabic (MSA).\\n\\n### Input:\\nطبعًا يا حبيبتي بدي أزعل، لأنه حضرة جنابك مش محتاجة لا غدا و لا هدية، أنت محتاجة بيت، فاهمة إيش يعني بيت؟\\n\\n### Response:',\n",
       " '### Instruction: The following is a sentence in Jordanian_28 Arabic dialect. Please translate it to Modern Standard Arabic (MSA).\\n\\n### Input:\\nإحنا يرمينا و هي لا خليها معززة مستتة مكرمة هون! أقول لك خلي ولادك يروحوا يبيعوا علكة بالشوارع و لا يمسحوا قزاز سيارات على الإشارات\\n\\n### Response:',\n",
       " '### Instruction: The following is a sentence in Jordanian_3 Arabic dialect. Please translate it to Modern Standard Arabic (MSA).\\n\\n### Input:\\nأنا بقول تطبخي منسف الولاد بحبوا يخبصوا يلا خليني اساعدك اليوم بس اسمعي ترا أنا عند كلمتي إذا بدك شغالة من الصبح بتكون عندك\\n\\n### Response:',\n",
       " '### Instruction: The following is a sentence in Jordanian_237 Arabic dialect. Please translate it to Modern Standard Arabic (MSA).\\n\\n### Input:\\nعفوا استاذ عمر، الي قصده جودت انه في شركة عالمية كبيرة بتشتغل في نفس المجال و بتنتج تقريبا نفس الصناعات\\n\\n### Response:',\n",
       " '### Instruction: The following is a sentence in Jordanian_249 Arabic dialect. Please translate it to Modern Standard Arabic (MSA).\\n\\n### Input:\\nطب يالله، خلينا نقوم انا ما بقدر اتأخر اكثر من هيك\\n\\n### Response:',\n",
       " '### Instruction: The following is a sentence in Jordanian_32 Arabic dialect. Please translate it to Modern Standard Arabic (MSA).\\n\\n### Input:\\nشكرًا، على كل حال أنا اليوم رجعت له فاتورة عشان شكيت فيها\\n\\n### Response:',\n",
       " '### Instruction: The following is a sentence in Jordanian_76 Arabic dialect. Please translate it to Modern Standard Arabic (MSA).\\n\\n### Input:\\nبس فاتن احنا ما بنقدر نبعد عن بعض و لازم نتجوز\\n\\n### Response:',\n",
       " '### Instruction: The following is a sentence in Jordanian_356 Arabic dialect. Please translate it to Modern Standard Arabic (MSA).\\n\\n### Input:\\nآه، اسمع دير بالك على الكراج هاه مش رح اطول أنا ، امسك\\n\\n### Response:',\n",
       " '### Instruction: The following is a sentence in Jordanian_585 Arabic dialect. Please translate it to Modern Standard Arabic (MSA).\\n\\n### Input:\\nأنت بس احكي شو في فضفض لحبيببك أنا حبيببك فايق فضفض \\n\\n### Response:',\n",
       " '### Instruction: The following is a sentence in Palestinian_93 Arabic dialect. Please translate it to Modern Standard Arabic (MSA).\\n\\n### Input:\\nو شو عرفك يا عمي بلكن سعيد حدا بقلدك و يصير كبير البلد\\n\\n### Response:',\n",
       " '### Instruction: The following is a sentence in Palestinian_354 Arabic dialect. Please translate it to Modern Standard Arabic (MSA).\\n\\n### Input:\\nبس من خلال تواجدي في القرية اسمحلي يعني شفت حكي غير الحكي\\n\\n### Response:',\n",
       " '### Instruction: The following is a sentence in Palestinian_311 Arabic dialect. Please translate it to Modern Standard Arabic (MSA).\\n\\n### Input:\\nهاذا الانسان من اول ما استلم ادارة مجلس ام الحيطان و حيطان البلد تشققت، نخلها السوس نخل، احنا وطنيتنا بتقول انو لازم من هاي اللحظة انو الانسان هاذا يسيب المجلس\\n\\n### Response:',\n",
       " '### Instruction: The following is a sentence in Palestinian_383 Arabic dialect. Please translate it to Modern Standard Arabic (MSA).\\n\\n### Input:\\nولا تقلق ولا تقلق عمي أبو ناصر ماشيين على مشورتك\\n\\n### Response:',\n",
       " '### Instruction: The following is a sentence in Palestinian_491 Arabic dialect. Please translate it to Modern Standard Arabic (MSA).\\n\\n### Input:\\nهذا مسعود الحِذر بهدد ينزل يحرق كفر اللوز و بقول إنه الموضوع مش موضوع أبو جبر لحالو هذا موضوعنا كلنا\\n\\n### Response:',\n",
       " '### Instruction: The following is a sentence in Palestinian_95 Arabic dialect. Please translate it to Modern Standard Arabic (MSA).\\n\\n### Input:\\nأنا بقول اعمل مشروعك كامل مكمل من مجاميعو خلي البلد كلها تعرف إنك زلمة شغيل، شغيل؟\\n\\n### Response:',\n",
       " '### Instruction: The following is a sentence in Palestinian_366 Arabic dialect. Please translate it to Modern Standard Arabic (MSA).\\n\\n### Input:\\nالله وكيلك هالحكي مش صحيح، جننا من أول الحارة لباب الدار وبظل يقول جوزوني فاطمة ومين هي فاطمة الله أعلم\\n\\n### Response:',\n",
       " '### Instruction: The following is a sentence in Palestinian_141 Arabic dialect. Please translate it to Modern Standard Arabic (MSA).\\n\\n### Input:\\nاحنا طول عمرنا اهل و صحاب و اللي بضركم بضرنا و اللي بفيدكم بفيدنا ، ليكون في عندك قول ثاني يا ابو عطا؟\\n\\n### Response:',\n",
       " '### Instruction: The following is a sentence in Palestinian_476 Arabic dialect. Please translate it to Modern Standard Arabic (MSA).\\n\\n### Input:\\nيعني احنا شو بدنا يا كابتن رسمي غير انكم تكونوا مرتاحين و مبسوطين. اطلع عليها ما شاء الله هيبة هيبة\\n\\n### Response:',\n",
       " '### Instruction: The following is a sentence in Palestinian_352 Arabic dialect. Please translate it to Modern Standard Arabic (MSA).\\n\\n### Input:\\nشوف هالتنة الفاضية، ثلاث هذول و حاطتلهم عشر درجات؟ تنكة بتكفيهم\\n\\n### Response:',\n",
       " '### Instruction: The following is a sentence in Palestinian_248 Arabic dialect. Please translate it to Modern Standard Arabic (MSA).\\n\\n### Input:\\nو لمعلوماتك بقولوا ممكن اليوم يجوا يعتقلوهم شفيق و أبو ناصر\\n\\n### Response:',\n",
       " '### Instruction: The following is a sentence in Palestinian_194 Arabic dialect. Please translate it to Modern Standard Arabic (MSA).\\n\\n### Input:\\nهاظا موجود و جاهز، أصلاً محضر حالي. بتعرف لو مخذتوش من عندي والله ما بصلها الحفلة\\n\\n### Response:',\n",
       " '### Instruction: The following is a sentence in Palestinian_374 Arabic dialect. Please translate it to Modern Standard Arabic (MSA).\\n\\n### Input:\\nيعني انتوا يا ابو عطا بتضلكم تحكوا عن التطور و التقدم و المشاريع اللي حاصلة بإم الحيطان\\n\\n### Response:',\n",
       " '### Instruction: The following is a sentence in Palestinian_503 Arabic dialect. Please translate it to Modern Standard Arabic (MSA).\\n\\n### Input:\\nولك يا عمي شفتو شفتو، بس بقي داير ظهرو لأنو مخزي بحالو\\n\\n### Response:',\n",
       " '### Instruction: The following is a sentence in Palestinian_590 Arabic dialect. Please translate it to Modern Standard Arabic (MSA).\\n\\n### Input:\\nولو يا سلامي، يا صديقي الفنان نجم و الفنانين جميعاً ولك أنا أصلاً عامل حسابك و كاتبلك رسالة ثانية، بس هالمرة مش تروح تحطها بسهم و تروح تعور عينها الثانية\\n\\n### Response:',\n",
       " '### Instruction: The following is a sentence in Palestinian_433 Arabic dialect. Please translate it to Modern Standard Arabic (MSA).\\n\\n### Input:\\nبقولك عمي أبو عطا تفضل عنا عشان بدنا نستقبل سلامة جاي من أميركا\\n\\n### Response:',\n",
       " '### Instruction: The following is a sentence in Palestinian_177 Arabic dialect. Please translate it to Modern Standard Arabic (MSA).\\n\\n### Input:\\nشفيق! وين رايح خدني معك، أنا بشحن هناك و بفتح اخرى سوبرماركت هناك و أبو عطا دبارته عندي\\n\\n### Response:',\n",
       " '### Instruction: The following is a sentence in Palestinian_250 Arabic dialect. Please translate it to Modern Standard Arabic (MSA).\\n\\n### Input:\\nاظربهم بعشرة بصفيلك عندك بالمحصلة عشر سنين سجن، شو رأيك؟\\n\\n### Response:',\n",
       " '### Instruction: The following is a sentence in Palestinian_184 Arabic dialect. Please translate it to Modern Standard Arabic (MSA).\\n\\n### Input:\\nشو يا سلامة، كل ما تشوف حالك فاظي بتيجي تضيع وقت عنا؟ يلا امشي من هون، مش رح افوتك داري، امشي\\n\\n### Response:',\n",
       " '### Instruction: The following is a sentence in Palestinian_72 Arabic dialect. Please translate it to Modern Standard Arabic (MSA).\\n\\n### Input:\\nأبو العبد تآخذنيش، أنا هاي الشغلات بفهمش فيها، ودي بودي، هاتي بهاتي، جيب بجيب، غير هيك بعرفش، أما اذا خايف عشان المرمطة فتزعلش، أبو ناصر اعتقلتو قبلك، فعشان هيك يا أبو العبد يا هز و لبد تفظل قدامي و هزلي كتافك تفظل\\n\\n### Response:',\n",
       " '### Instruction: The following is a sentence in Palestinian_461 Arabic dialect. Please translate it to Modern Standard Arabic (MSA).\\n\\n### Input:\\nو ليش هو عمرو كان بكفر اللوز في مشكلة سهلة؟ مهمه السهل صعبو. أيام الدورة العسكرية بالجزائر مبكاش في اشي صعب، بكا كلشي سهل\\n\\n### Response:',\n",
       " '### Instruction: The following is a sentence in Palestinian_137 Arabic dialect. Please translate it to Modern Standard Arabic (MSA).\\n\\n### Input:\\nالحجر الأمني يا حبيبي عشان أعرف أنام، انام الليل الطويل الطويل\\n\\n### Response:',\n",
       " '### Instruction: The following is a sentence in Palestinian_69 Arabic dialect. Please translate it to Modern Standard Arabic (MSA).\\n\\n### Input:\\nو بالنسبة للورثة الكبير دايماً هو اللي بكون الواصي على أموال الصغار و اليتامى و الأرامل\\n\\n### Response:',\n",
       " '### Instruction: The following is a sentence in Palestinian_584 Arabic dialect. Please translate it to Modern Standard Arabic (MSA).\\n\\n### Input:\\nاكم مرة أنا بدي أقلك إنو الناس مقامات و هذول أكابرية المنطقة كلياتها، و المقامات لما بتخرفوا مع بعض الناس الصغار الي زيك بوكلوا هوا و بسكتوا، لا لا العمرة أوعى بتروح العمرة، سجلوني رايح معكم تفو\\n\\n### Response:',\n",
       " '### Instruction: The following is a sentence in Palestinian_70 Arabic dialect. Please translate it to Modern Standard Arabic (MSA).\\n\\n### Input:\\nمشاكل شو يا شفيق،هو انت بتفكرني رضيت بالاتفاق تبعهم هيك يعني\\n\\n### Response:',\n",
       " '### Instruction: The following is a sentence in Palestinian_228 Arabic dialect. Please translate it to Modern Standard Arabic (MSA).\\n\\n### Input:\\nما شاء الله! شو بشوفك قاعد و مبسوط و مبرطع و كأنه ما عليك شغل بالدار\\n\\n### Response:',\n",
       " '### Instruction: The following is a sentence in Palestinian_355 Arabic dialect. Please translate it to Modern Standard Arabic (MSA).\\n\\n### Input:\\nاه على أيام الدورة العكسرية بالجزائر، ذكرتني فيما مضى يا فهد\\n\\n### Response:',\n",
       " '### Instruction: The following is a sentence in Palestinian_315 Arabic dialect. Please translate it to Modern Standard Arabic (MSA).\\n\\n### Input:\\nانا متفاجئ هذا أحلى خبر سمعته خلال أربعة و عشرين ساعة، يعني بلا مؤاخذة بس شو سر هالعفو الملكي؟\\n\\n### Response:',\n",
       " '### Instruction: The following is a sentence in Palestinian_434 Arabic dialect. Please translate it to Modern Standard Arabic (MSA).\\n\\n### Input:\\nلازم تاخد معاك كمان خروف محشي، اه ولّا انتا ابو العبد هز و لبد. و بالمرة يا حبيبي اشتري لمرتك حبيبتك اسوارة دهب بهالمناسبة\\n\\n### Response:',\n",
       " '### Instruction: The following is a sentence in Palestinian_402 Arabic dialect. Please translate it to Modern Standard Arabic (MSA).\\n\\n### Input:\\nهاظا يا سيدي زقطتو فالحارة، ماسك أربعة و بخبص فيهم\\n\\n### Response:',\n",
       " '### Instruction: The following is a sentence in Palestinian_249 Arabic dialect. Please translate it to Modern Standard Arabic (MSA).\\n\\n### Input:\\nهو اليوم رسمي رح يرَوِّح، و اذا اجى و ما لقاه والله لينخرب بيتي\\n\\n### Response:',\n",
       " '### Instruction: The following is a sentence in Palestinian_394 Arabic dialect. Please translate it to Modern Standard Arabic (MSA).\\n\\n### Input:\\nما انت مقطع البنات يا أخوي، يقطعك في هالمنظر، زي الفولز دبركمين عاملة حادث\\n\\n### Response:',\n",
       " '### Instruction: The following is a sentence in Palestinian_36 Arabic dialect. Please translate it to Modern Standard Arabic (MSA).\\n\\n### Input:\\nطالما ثلاثتكم متفقين لليش اللت و العجن الزيادة ، خلينا نسحب حالنا و نطيح عالزلمة و نعتذرله حقه علينا\\n\\n### Response:',\n",
       " '### Instruction: The following is a sentence in Palestinian_296 Arabic dialect. Please translate it to Modern Standard Arabic (MSA).\\n\\n### Input:\\nتنساش، بس توصل غاد بتشوف أي واحد من صحابك، و بتقله يقولك شو اسم أبو العبد النسناس؛ لأنو عيب و مش منيحة بحقنا نوديلو المكتوب بدون اسم. لازم نكتب اسمو عليه.\\n\\n### Response:',\n",
       " '### Instruction: The following is a sentence in Palestinian_428 Arabic dialect. Please translate it to Modern Standard Arabic (MSA).\\n\\n### Input:\\nولك الهبلة اللي ما بتوخذو لسلامة بعد اللي صرلو و التغيير اللي حصلوا، هاظا راجع من أميركا مليان مصاري، معاه مصاري بتوكلهاش النيارين، و بعدين الأهم من هيك انو عقلو رجعلو\\n\\n### Response:',\n",
       " '### Instruction: The following is a sentence in Palestinian_206 Arabic dialect. Please translate it to Modern Standard Arabic (MSA).\\n\\n### Input:\\nشو يا واطي! بتبيع حليب و انت ما معكش؟ بتتخوث عالناس؟\\n\\n### Response:',\n",
       " '### Instruction: The following is a sentence in Palestinian_246 Arabic dialect. Please translate it to Modern Standard Arabic (MSA).\\n\\n### Input:\\nشو بدي أقول يا سيادة المارشال رسمي يعني بصفتك انت بتشتغل مع الحكومة\\n\\n### Response:',\n",
       " '### Instruction: The following is a sentence in Palestinian_493 Arabic dialect. Please translate it to Modern Standard Arabic (MSA).\\n\\n### Input:\\nما شاء الله ما شاء الله. ولك التراب قلب حنة يا فضل، شو عملت للحمارة تنها اقتنعت؟\\n\\n### Response:',\n",
       " '### Instruction: The following is a sentence in Palestinian_424 Arabic dialect. Please translate it to Modern Standard Arabic (MSA).\\n\\n### Input:\\nابن النسناس ابن الناس، بوصله بكل كرم لحارة الذكر وبعديها بتلطف وبالله واسم الله بوصل الممرض لحارة أبو فجلة و برجع بسلم المفاتيح الي انا أبو العبد هز و لبد\\n\\n### Response:',\n",
       " '### Instruction: The following is a sentence in Palestinian_563 Arabic dialect. Please translate it to Modern Standard Arabic (MSA).\\n\\n### Input:\\nبس انا بدي اياك تروحي عند ابو العبد تخليه يشوف ابو يزن يتنازل عن حقو\\n\\n### Response:',\n",
       " '### Instruction: The following is a sentence in Palestinian_421 Arabic dialect. Please translate it to Modern Standard Arabic (MSA).\\n\\n### Input:\\nالله يقطع معروف واليوم اللي عرفناه فيه معروف، اكم مرة قلتلك يا أبو عطا هاظا معروف واحد نصاب كذاب والله لو تعطيه مليون فرصة ما بنصلح حاله\\n\\n### Response:',\n",
       " '### Instruction: The following is a sentence in Palestinian_242 Arabic dialect. Please translate it to Modern Standard Arabic (MSA).\\n\\n### Input:\\nهاظا المرض ما بعرف لا دار ابو فجلة و لا دار الدكر و لا النسناس حتى\\n\\n### Response:',\n",
       " '### Instruction: The following is a sentence in Palestinian_293 Arabic dialect. Please translate it to Modern Standard Arabic (MSA).\\n\\n### Input:\\nما استحطيت؟ أنت موديني عالموت! هو فش في هالدنيا الا أبو عطا مش سامع شو صاير بالصين\\n\\n### Response:',\n",
       " '### Instruction: The following is a sentence in Palestinian_56 Arabic dialect. Please translate it to Modern Standard Arabic (MSA).\\n\\n### Input:\\nهسا أنا بهمنيش غير إنو يتشكل وفد رسمي يمثل هاي القرية الظالم أهلها و نخلص\\n\\n### Response:',\n",
       " '### Instruction: The following is a sentence in Palestinian_541 Arabic dialect. Please translate it to Modern Standard Arabic (MSA).\\n\\n### Input:\\nهان كل اشي راح يكون على المكشوف، و هم ثلاث مشاريع و انتوا ثلاث عيل\\n\\n### Response:',\n",
       " '### Instruction: The following is a sentence in Palestinian_440 Arabic dialect. Please translate it to Modern Standard Arabic (MSA).\\n\\n### Input:\\nشوف يا فهمي، أبو جبر بدو يشكي بدوش يشكي في حق عام، في ناس تضرروا نفسياً من اللي بصير يا زلمة\\n\\n### Response:',\n",
       " '### Instruction: The following is a sentence in Palestinian_27 Arabic dialect. Please translate it to Modern Standard Arabic (MSA).\\n\\n### Input:\\nشو يا أبو الفوز عشان قلتلك بدي إياك تسافر على الصين بطلت تفتح دكانتك\\n\\n### Response:',\n",
       " '### Instruction: The following is a sentence in Palestinian_399 Arabic dialect. Please translate it to Modern Standard Arabic (MSA).\\n\\n### Input:\\nيم مجيتش تمرظ إلا هسا؟ ترا انته لا للسدي و لا للهدي، مثلك مثل مسعود الحذر\\n\\n### Response:',\n",
       " '### Instruction: The following is a sentence in Palestinian_43 Arabic dialect. Please translate it to Modern Standard Arabic (MSA).\\n\\n### Input:\\nشوف يا حضرة الملازم أنا هجيت من داري و رحت عند دار أبوي كله من تحت راس سلامة، يا بتشوفولي حل بسلامة يا بهج من البلد كلها\\n\\n### Response:',\n",
       " '### Instruction: The following is a sentence in Palestinian_231 Arabic dialect. Please translate it to Modern Standard Arabic (MSA).\\n\\n### Input:\\nهنا من سوق هوانان للمأكولات البحرية في مدينة ووهان الصينية\\n\\n### Response:',\n",
       " '### Instruction: The following is a sentence in Palestinian_37 Arabic dialect. Please translate it to Modern Standard Arabic (MSA).\\n\\n### Input:\\nنسيت يا زلمة بس بقينا قاعدين عند النار و قلتلي بدنا نرُوح و نعاكس خالتي ام فخري عشان انت تدافع عنها؟\\n\\n### Response:',\n",
       " '### Instruction: The following is a sentence in Palestinian_456 Arabic dialect. Please translate it to Modern Standard Arabic (MSA).\\n\\n### Input:\\nفش عندهم شرش هالذكاء، من وين جايبيته اه قوليلي؟ اكيد مني يعني طالعة علي!\\n\\n### Response:',\n",
       " '### Instruction: The following is a sentence in Palestinian_417 Arabic dialect. Please translate it to Modern Standard Arabic (MSA).\\n\\n### Input:\\nهلا! هلا و مليون مرحبا! هلا بالحكومة نورتوا الحارة والله، خير شو في؟\\n\\n### Response:',\n",
       " '### Instruction: The following is a sentence in Palestinian_16 Arabic dialect. Please translate it to Modern Standard Arabic (MSA).\\n\\n### Input:\\nولّا يعمي ما همه الشرطة لموا كل أهل البلد عن جنب و طرف، كنسوهم تكنيس و حطوهم فالسجن\\n\\n### Response:',\n",
       " '### Instruction: The following is a sentence in Palestinian_124 Arabic dialect. Please translate it to Modern Standard Arabic (MSA).\\n\\n### Input:\\nهلئ سيبنا من سيرتو لأبو جبر و قلي لساك على وعدك ولا كالعادة؟ بدنا نسافر ولا لأ شو؟\\n\\n### Response:',\n",
       " '### Instruction: The following is a sentence in Palestinian_409 Arabic dialect. Please translate it to Modern Standard Arabic (MSA).\\n\\n### Input:\\nإن شاء الله لجرحك جرح ما تقوم منو. اسمع! ترا انا عارفكم انتو مساعدين المخاتير مش قلال،بتخوفو. بس يا خوفي، يا خوفي تطلع مثل معروف الدكر اللي حبس أبو عطا لقطمك تقطيم\\n\\n### Response:',\n",
       " '### Instruction: The following is a sentence in Palestinian_330 Arabic dialect. Please translate it to Modern Standard Arabic (MSA).\\n\\n### Input:\\nبتعرف يابا، هادا أبو ناصر طلع لا سايقها انتماء و وطنية ولا حتى سايق عرباي\\n\\n### Response:',\n",
       " '### Instruction: The following is a sentence in Palestinian_1 Arabic dialect. Please translate it to Modern Standard Arabic (MSA).\\n\\n### Input:\\nحبيبة قلبي يا وداد، جبتلك ذهبات تعويض عن الذهبات اللي انسرقوا هوأنا بهونلي بزعلتش\\n\\n### Response:',\n",
       " '### Instruction: The following is a sentence in Palestinian_155 Arabic dialect. Please translate it to Modern Standard Arabic (MSA).\\n\\n### Input:\\nطيب تتفلفسش تتفلفسش، هسا بتضلك رايح عأم الحيطان من هناك بتجيبلي معاك أبو الشنتات و أنت راجع عكفر اللوز بتشحطلي معروف الذكر بطريقك\\n\\n### Response:',\n",
       " '### Instruction: The following is a sentence in Palestinian_265 Arabic dialect. Please translate it to Modern Standard Arabic (MSA).\\n\\n### Input:\\nلا والله يا زلمة، صح معيش حليب بس الحمارة تعبانة و مش قادر احمّل عليها حليب\\n\\n### Response:',\n",
       " '### Instruction: The following is a sentence in Palestinian_131 Arabic dialect. Please translate it to Modern Standard Arabic (MSA).\\n\\n### Input:\\nبعدين تآخذنيش، مرتي طلبت مني أتصور أنا وياك سيلفي بعد ال.\\n\\n### Response:',\n",
       " '### Instruction: The following is a sentence in Palestinian_539 Arabic dialect. Please translate it to Modern Standard Arabic (MSA).\\n\\n### Input:\\nتطلعش فيي هيك، أنا قمت بالواجب و زيادة قدك و قدو مرتين. أنا قحوشت الذهبات من الدار و من مرتي مخليتلهاش خلق حلق تحطها فذانها ها\\n\\n### Response:',\n",
       " '### Instruction: The following is a sentence in Palestinian_238 Arabic dialect. Please translate it to Modern Standard Arabic (MSA).\\n\\n### Input:\\nانا شو جاييني منك اه؟ بدك اياني أزعل الحنون مني؟ بدك تخرب بيتي زي مخربت بيت أبو عطا؟\\n\\n### Response:',\n",
       " '### Instruction: The following is a sentence in Palestinian_237 Arabic dialect. Please translate it to Modern Standard Arabic (MSA).\\n\\n### Input:\\nهظول الناس غير متوقعين. حسب خبرتي الأمنية التراكمية، بقدر أأكدلك إنهم منّا فينا، و قريبين علينا\\n\\n### Response:',\n",
       " '### Instruction: The following is a sentence in Palestinian_135 Arabic dialect. Please translate it to Modern Standard Arabic (MSA).\\n\\n### Input:\\nكان حكيت من أول هيك يا سعيد يا أبو فجلة يا صغير!\\n\\n### Response:',\n",
       " '### Instruction: The following is a sentence in Palestinian_500 Arabic dialect. Please translate it to Modern Standard Arabic (MSA).\\n\\n### Input:\\nقبل، بعد، ما بفهم أنا. المهم النية بكت موجودة، معناها إنته مكورن معهم يعني مكورن معهم. و مش لحالك، أنا بعرف كل القصة، إنته مكورن و مسعود الحذر معكم\\n\\n### Response:',\n",
       " '### Instruction: The following is a sentence in Palestinian_432 Arabic dialect. Please translate it to Modern Standard Arabic (MSA).\\n\\n### Input:\\nليش بتفكرهم نايمين على ودنيهم؟ هلقيت بتلاقي كل عيلة قاعدة بتشكر الوفد تبعها للقمة\\n\\n### Response:',\n",
       " '### Instruction: The following is a sentence in Palestinian_149 Arabic dialect. Please translate it to Modern Standard Arabic (MSA).\\n\\n### Input:\\nيا زلمة والله ما طبيت فيه ولا قتلتو، كل الي سويتو اني غنيتلو كتاب حياتي يا عين\\n\\n### Response:',\n",
       " '### Instruction: The following is a sentence in Palestinian_471 Arabic dialect. Please translate it to Modern Standard Arabic (MSA).\\n\\n### Input:\\nاحنا اللي ضيعناك يا ابو العبد؟ انته و ابو ناصر اللي ضيعتوا المشاريع و خربتوا كفر اللوز. أربع طبقات الزفتة شالدعوة؟! و انته يا ابو ناصر، المي تدش الشوارع و غسيل و شطف في حارتكوا شو الدعوة؟! احنا بقينا نقطع الكهربا من باب الترشيد. انتوا اللي ضيعتونا و ضيعتوا كفر اللوز\\n\\n### Response:',\n",
       " '### Instruction: The following is a sentence in Palestinian_30 Arabic dialect. Please translate it to Modern Standard Arabic (MSA).\\n\\n### Input:\\nسد نيعك و اسكت، مية مرة قلتلك لما الناس الأكابر بتتخرف مع بعظ، الناس الصغار زيك بتسكت و بتسكر ثمها\\n\\n### Response:',\n",
       " '### Instruction: The following is a sentence in Palestinian_85 Arabic dialect. Please translate it to Modern Standard Arabic (MSA).\\n\\n### Input:\\nسيدي المواطن بتحمل أي مهو متحمل أوسخ من هيك بدش يتحمله شوية نصابين\\n\\n### Response:',\n",
       " '### Instruction: The following is a sentence in Palestinian_260 Arabic dialect. Please translate it to Modern Standard Arabic (MSA).\\n\\n### Input:\\nخمسة، أبو طاسة خمسة، أبو شحادة خمسة، معروف الدكر خمسة، بشرط أن يزرعها لا يبيعها و لا ينصب بها\\n\\n### Response:',\n",
       " '### Instruction: The following is a sentence in Palestinian_104 Arabic dialect. Please translate it to Modern Standard Arabic (MSA).\\n\\n### Input:\\nطيب مدام هيك خلينا نرجع عالبلد، ولا شو رأيك يا عمي ابو جبر؟\\n\\n### Response:',\n",
       " '### Instruction: The following is a sentence in Palestinian_201 Arabic dialect. Please translate it to Modern Standard Arabic (MSA).\\n\\n### Input:\\nشو هاظ يا أبو ناصر، أنا الفار بلش يلعب في عبي، بدي أقول دشرت كل كفر الوز و جايبني هان على البر، اسمع لقلك بدك تسوي صاحب معي؟\\n\\n### Response:',\n",
       " '### Instruction: The following is a sentence in Palestinian_62 Arabic dialect. Please translate it to Modern Standard Arabic (MSA).\\n\\n### Input:\\nو لك انا مش حاسدته بس انا مستغربة نعم هو كان مغلبنا بس والله طلع أصيل و ما نسينا\\n\\n### Response:',\n",
       " '### Instruction: The following is a sentence in Palestinian_285 Arabic dialect. Please translate it to Modern Standard Arabic (MSA).\\n\\n### Input:\\nيقطع خلفك زي ما قطعت خلفي، شو هو الخراف شو قلت أنا؟ ولا حكيت اشي قلت أبو عطا يسد شوي من ديناته القدام قبل ما يسحب جديد، هاد الطبل أبو فايز ما عرفش يوصلك الفكرة\\n\\n### Response:',\n",
       " '### Instruction: The following is a sentence in Palestinian_81 Arabic dialect. Please translate it to Modern Standard Arabic (MSA).\\n\\n### Input:\\nالصحيح لا، الي استوى هو أبو عطا تويتي ذبحت الي نفضو ملش شغلة فالبلد غير أبو العبد و أبو ناصر من شقة و انت من شقة ثانية، ان شاء الله تبقى صادق\\n\\n### Response:',\n",
       " '### Instruction: The following is a sentence in Palestinian_291 Arabic dialect. Please translate it to Modern Standard Arabic (MSA).\\n\\n### Input:\\nفاطمة ابو فجلة و ابتهاج النواح ابو فجلة ، فهمت علي؟\\n\\n### Response:',\n",
       " '### Instruction: The following is a sentence in Palestinian_277 Arabic dialect. Please translate it to Modern Standard Arabic (MSA).\\n\\n### Input:\\nكنافة و بقلاوة و مطبق، بدك تحسدهم احسدهم على شي ثاني، احسدهم ع وحدتهم، مجلس قروي واحد، و رئيس مجلس قروي واحد، مش زيكم إنتو الثلاث زي بعر الغنم كل واحد بجبل\\n\\n### Response:',\n",
       " '### Instruction: The following is a sentence in Palestinian_283 Arabic dialect. Please translate it to Modern Standard Arabic (MSA).\\n\\n### Input:\\nعمي أبو العبد، حط عينك فعيني. أكم مرة وعدتني قلتلي رح أفتحلك استوديو و مصرش هالحكي؟ أكم مرة؟\\n\\n### Response:',\n",
       " '### Instruction: The following is a sentence in Palestinian_185 Arabic dialect. Please translate it to Modern Standard Arabic (MSA).\\n\\n### Input:\\nالله يخليلنا الحكومة، الله يا ربنا يعلي مراتبك يا رب\\n\\n### Response:',\n",
       " '### Instruction: The following is a sentence in Palestinian_426 Arabic dialect. Please translate it to Modern Standard Arabic (MSA).\\n\\n### Input:\\nمش كاشع؟ اعمى انت؟ شتلة زيتون. مدريتش؟ في مركز الشرطة بوزعوا في زيتون، قلت أجيب وحدة لحماتي ام فخري\\n\\n### Response:',\n",
       " '### Instruction: The following is a sentence in Palestinian_381 Arabic dialect. Please translate it to Modern Standard Arabic (MSA).\\n\\n### Input:\\nهاظا يا ابن عمي كنت عند وزير الحكم المحلي، قدمتلو على مبادرة شبابية لحتى احنا الشباب نقود المجلس بدل الثلث ختيارية اللي انهكونا\\n\\n### Response:',\n",
       " '### Instruction: The following is a sentence in Palestinian_483 Arabic dialect. Please translate it to Modern Standard Arabic (MSA).\\n\\n### Input:\\nفكرك أبو جبر شو رح يعمل لو يعرف إني أنا بكذب عليه و مقعدك عندي آه؟\\n\\n### Response:',\n",
       " '### Instruction: The following is a sentence in Palestinian_594 Arabic dialect. Please translate it to Modern Standard Arabic (MSA).\\n\\n### Input:\\nلا شو دفنّاه؟ إحنا منستناك و منستنا ولاد عمّك، بدنا نلم شمل العيلة كلها. ملتميناش و هو عايش، منلتم عالقليلة عقبرو\\n\\n### Response:',\n",
       " '### Instruction: The following is a sentence in Palestinian_42 Arabic dialect. Please translate it to Modern Standard Arabic (MSA).\\n\\n### Input:\\nبدي تشاغل تحت إيدي شوفير عشان يحلالي الجو مع فاطمة جوا سيارة الشرطة\\n\\n### Response:',\n",
       " '### Instruction: The following is a sentence in Palestinian_235 Arabic dialect. Please translate it to Modern Standard Arabic (MSA).\\n\\n### Input:\\nبلاش تجيب سيرة مسعود الحذر يعني بلاش هيك يرن عليك و تصير مشكلة بينك و بينه\\n\\n### Response:',\n",
       " '### Instruction: The following is a sentence in Palestinian_90 Arabic dialect. Please translate it to Modern Standard Arabic (MSA).\\n\\n### Input:\\nأصلاً هما دار أبو فجلة بعرفوا للعب ولا لكرة القدم\\n\\n### Response:',\n",
       " '### Instruction: The following is a sentence in Palestinian_373 Arabic dialect. Please translate it to Modern Standard Arabic (MSA).\\n\\n### Input:\\nهادا في الزمانات يا سيدي دار الدكر وقعوا في مشلكة و سيدي الله يرحمه أبو فجلة الكبير حللهم اياها و لا كان ما عمرها انحلت\\n\\n### Response:',\n",
       " '### Instruction: The following is a sentence in Palestinian_52 Arabic dialect. Please translate it to Modern Standard Arabic (MSA).\\n\\n### Input:\\nيعني أبو ناصر يودي سعيد على روسيا، و أبو العبد يودي نجم عبيروت. باكيين أحسن منّا؟\\n\\n### Response:',\n",
       " '### Instruction: The following is a sentence in Palestinian_272 Arabic dialect. Please translate it to Modern Standard Arabic (MSA).\\n\\n### Input:\\nالله لا يباركلو و لا يقشّعو بركة وين ما دار وجهو هالجندي. سفقني ببوز بسطارو على عصب رجلي سوالي شلل رباعي يبو عطا، حسيت حالي بطلق. يخرب بيتو، قسماً بالله رفسة حمارة أبو صابر أهون منّو\\n\\n### Response:',\n",
       " '### Instruction: The following is a sentence in Palestinian_54 Arabic dialect. Please translate it to Modern Standard Arabic (MSA).\\n\\n### Input:\\nقاعد بفكر و بقول لحالي: معقول المخاتير الثلاث بكرة يخربوا افتتاح المدرسة مثل ما خربوا أيام افتتاح مركز الشرطة؟\\n\\n### Response:',\n",
       " '### Instruction: The following is a sentence in Palestinian_371 Arabic dialect. Please translate it to Modern Standard Arabic (MSA).\\n\\n### Input:\\nيم هسا صار معروف الدكر مش عاجبك يا ابو الفوز؟\\n\\n### Response:',\n",
       " '### Instruction: The following is a sentence in Palestinian_215 Arabic dialect. Please translate it to Modern Standard Arabic (MSA).\\n\\n### Input:\\nو الله وصلتني تقارير بتحكي إنو فيها أراضي حلوة لدار النسناس\\n\\n### Response:',\n",
       " '### Instruction: The following is a sentence in Palestinian_401 Arabic dialect. Please translate it to Modern Standard Arabic (MSA).\\n\\n### Input:\\nلا حول ولا قوة إلا بالله، لعلمك هاي استغاثة و أنا صار وقت الصلاة، سلام عليكم\\n\\n### Response:',\n",
       " '### Instruction: The following is a sentence in Palestinian_275 Arabic dialect. Please translate it to Modern Standard Arabic (MSA).\\n\\n### Input:\\nو الجاني رح نعرفو من خطو، و وقتها رح ننزل فيه أشد العقاب\\n\\n### Response:',\n",
       " '### Instruction: The following is a sentence in Palestinian_574 Arabic dialect. Please translate it to Modern Standard Arabic (MSA).\\n\\n### Input:\\nبعدين انت بتعرف قديش اهل البلد بحترموني و بسمعوا كلامي\\n\\n### Response:',\n",
       " '### Instruction: The following is a sentence in Palestinian_537 Arabic dialect. Please translate it to Modern Standard Arabic (MSA).\\n\\n### Input:\\nعلى أساس إنو احنا مركز شرطة ام الحيطان، ما احنا من كفر اللوز يا زلمة منها فيها، بعدين بدنا نزرعهن حوالين المركز، أنا قلتلك غير نروحهن على الدور؟\\n\\n### Response:',\n",
       " '### Instruction: The following is a sentence in Palestinian_329 Arabic dialect. Please translate it to Modern Standard Arabic (MSA).\\n\\n### Input:\\nلا يا عمي، حقك علي، انا الكذاب. بس بدي اياك تعطيني تاريخ محدد و تقولي يا نجم في هاظا التاريخ بدي افتحلك استوديو، و اذا بدكش تساعدني بشوف حدا ثاني يساعدني\\n\\n### Response:',\n",
       " '### Instruction: The following is a sentence in Palestinian_473 Arabic dialect. Please translate it to Modern Standard Arabic (MSA).\\n\\n### Input:\\nقصدك نصّاب و سرسري. و عشان انته نصاب زيو الدم بحن عالدم\\n\\n### Response:']"
      ]
     },
     "execution_count": 13,
     "metadata": {},
     "output_type": "execute_result"
    }
   ],
   "source": [
    "dataset['prompt']"
   ]
  }
 ],
 "metadata": {
  "kernelspec": {
   "display_name": "Python 3 (ipykernel)",
   "language": "python",
   "name": "python3"
  },
  "language_info": {
   "codemirror_mode": {
    "name": "ipython",
    "version": 3
   },
   "file_extension": ".py",
   "mimetype": "text/x-python",
   "name": "python",
   "nbconvert_exporter": "python",
   "pygments_lexer": "ipython3",
   "version": "3.10.12"
  }
 },
 "nbformat": 4,
 "nbformat_minor": 5
}
